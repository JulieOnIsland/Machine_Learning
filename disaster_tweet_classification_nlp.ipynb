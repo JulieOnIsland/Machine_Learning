{
  "nbformat": 4,
  "nbformat_minor": 0,
  "metadata": {
    "colab": {
      "name": "disaster_tweet_classification_nlp.ipynb",
      "provenance": [],
      "collapsed_sections": [],
      "mount_file_id": "15uIyH3c2OF3Zt4Lrds29KHeFyzlvvksH",
      "authorship_tag": "ABX9TyPufdoQwAENG4Vvf247eHu8",
      "include_colab_link": true
    },
    "kernelspec": {
      "name": "python3",
      "display_name": "Python 3"
    },
    "language_info": {
      "name": "python"
    },
    "accelerator": "GPU"
  },
  "cells": [
    {
      "cell_type": "markdown",
      "metadata": {
        "id": "view-in-github",
        "colab_type": "text"
      },
      "source": [
        "<a href=\"https://colab.research.google.com/github/JulieOnIsland/Machine_Learning/blob/main/disaster_tweet_classification_nlp.ipynb\" target=\"_parent\"><img src=\"https://colab.research.google.com/assets/colab-badge.svg\" alt=\"Open In Colab\"/></a>"
      ]
    },
    {
      "cell_type": "markdown",
      "source": [
        "* Preprocess the data, build and evaluate NLP models, and make predictions on the test dataset\n",
        "* source: Zero To Mastery TensorFlow for Deep Learning course (by Daniel Bourke)"
      ],
      "metadata": {
        "id": "wQmbMm9vZuQ8"
      }
    },
    {
      "cell_type": "markdown",
      "source": [
        "```\n",
        "Model 0: Naive Bayes(baseline)\n",
        "Model 1: Feed-forward neural network\n",
        "Model 2: LSTM\n",
        "Model 3: GRU\n",
        "Model 4: Bidirectional RNN\n",
        "Model 5: Conv1D\n",
        "Model 6: Using pretrained embeddings (transfer learning)\n",
        "```"
      ],
      "metadata": {
        "id": "VoIwgMB73q2e"
      }
    },
    {
      "cell_type": "code",
      "execution_count": 1,
      "metadata": {
        "colab": {
          "base_uri": "https://localhost:8080/"
        },
        "id": "mLSS5g6DCYxm",
        "outputId": "2c7a8d29-538e-4dd3-ef32-6505a5a6b8f2"
      },
      "outputs": [
        {
          "output_type": "stream",
          "name": "stdout",
          "text": [
            "GPU 0: Tesla T4 (UUID: GPU-3a11bd40-0c5f-8a75-5836-0afc112269fb)\n"
          ]
        }
      ],
      "source": [
        "# Check gpu\n",
        "!nvidia-smi -L"
      ]
    },
    {
      "cell_type": "code",
      "source": [
        "# Download helper functions\n",
        "!wget https://raw.githubusercontent.com/mrdbourke/tensorflow-deep-learning/main/extras/helper_functions.py"
      ],
      "metadata": {
        "colab": {
          "base_uri": "https://localhost:8080/"
        },
        "id": "i8UEQblxCvdo",
        "outputId": "e0a76c9f-96e9-4244-b67c-b5d04f18347c"
      },
      "execution_count": 2,
      "outputs": [
        {
          "output_type": "stream",
          "name": "stdout",
          "text": [
            "--2022-01-21 07:01:35--  https://raw.githubusercontent.com/mrdbourke/tensorflow-deep-learning/main/extras/helper_functions.py\n",
            "Resolving raw.githubusercontent.com (raw.githubusercontent.com)... 185.199.108.133, 185.199.109.133, 185.199.110.133, ...\n",
            "Connecting to raw.githubusercontent.com (raw.githubusercontent.com)|185.199.108.133|:443... connected.\n",
            "HTTP request sent, awaiting response... 200 OK\n",
            "Length: 10246 (10K) [text/plain]\n",
            "Saving to: ‘helper_functions.py’\n",
            "\n",
            "\rhelper_functions.py   0%[                    ]       0  --.-KB/s               \rhelper_functions.py 100%[===================>]  10.01K  --.-KB/s    in 0s      \n",
            "\n",
            "2022-01-21 07:01:36 (51.5 MB/s) - ‘helper_functions.py’ saved [10246/10246]\n",
            "\n"
          ]
        }
      ]
    },
    {
      "cell_type": "code",
      "source": [
        "# Import helper functions\n",
        "from helper_functions import unzip_data, create_tensorboard_callback, plot_loss_curves, compare_historys"
      ],
      "metadata": {
        "id": "8nhfYpLuDFu9"
      },
      "execution_count": 3,
      "outputs": []
    },
    {
      "cell_type": "markdown",
      "source": [
        "# Preprocessing the data\n"
      ],
      "metadata": {
        "id": "mWgVJhdzMN_6"
      }
    },
    {
      "cell_type": "code",
      "source": [
        "# Get a text dataset (Kaggle disaster tweet data downloaded)\n",
        "import pandas as pd\n",
        "path = '/content/drive/MyDrive/data/'\n",
        "train_df = pd.read_csv(path + 'disaster_tweet_train.csv')\n",
        "test_df = pd.read_csv(path + 'disaster_tweet_test.csv')\n",
        "train_df.head()"
      ],
      "metadata": {
        "colab": {
          "base_uri": "https://localhost:8080/",
          "height": 206
        },
        "id": "xLRG6ZBaDZSu",
        "outputId": "05fd4f6f-e5bf-4574-cd6d-de275a4f1394"
      },
      "execution_count": 4,
      "outputs": [
        {
          "output_type": "execute_result",
          "data": {
            "text/html": [
              "\n",
              "  <div id=\"df-60ce6e14-391a-4921-9643-ff07be8cdba3\">\n",
              "    <div class=\"colab-df-container\">\n",
              "      <div>\n",
              "<style scoped>\n",
              "    .dataframe tbody tr th:only-of-type {\n",
              "        vertical-align: middle;\n",
              "    }\n",
              "\n",
              "    .dataframe tbody tr th {\n",
              "        vertical-align: top;\n",
              "    }\n",
              "\n",
              "    .dataframe thead th {\n",
              "        text-align: right;\n",
              "    }\n",
              "</style>\n",
              "<table border=\"1\" class=\"dataframe\">\n",
              "  <thead>\n",
              "    <tr style=\"text-align: right;\">\n",
              "      <th></th>\n",
              "      <th>id</th>\n",
              "      <th>keyword</th>\n",
              "      <th>location</th>\n",
              "      <th>text</th>\n",
              "      <th>target</th>\n",
              "    </tr>\n",
              "  </thead>\n",
              "  <tbody>\n",
              "    <tr>\n",
              "      <th>0</th>\n",
              "      <td>1</td>\n",
              "      <td>NaN</td>\n",
              "      <td>NaN</td>\n",
              "      <td>Our Deeds are the Reason of this #earthquake M...</td>\n",
              "      <td>1</td>\n",
              "    </tr>\n",
              "    <tr>\n",
              "      <th>1</th>\n",
              "      <td>4</td>\n",
              "      <td>NaN</td>\n",
              "      <td>NaN</td>\n",
              "      <td>Forest fire near La Ronge Sask. Canada</td>\n",
              "      <td>1</td>\n",
              "    </tr>\n",
              "    <tr>\n",
              "      <th>2</th>\n",
              "      <td>5</td>\n",
              "      <td>NaN</td>\n",
              "      <td>NaN</td>\n",
              "      <td>All residents asked to 'shelter in place' are ...</td>\n",
              "      <td>1</td>\n",
              "    </tr>\n",
              "    <tr>\n",
              "      <th>3</th>\n",
              "      <td>6</td>\n",
              "      <td>NaN</td>\n",
              "      <td>NaN</td>\n",
              "      <td>13,000 people receive #wildfires evacuation or...</td>\n",
              "      <td>1</td>\n",
              "    </tr>\n",
              "    <tr>\n",
              "      <th>4</th>\n",
              "      <td>7</td>\n",
              "      <td>NaN</td>\n",
              "      <td>NaN</td>\n",
              "      <td>Just got sent this photo from Ruby #Alaska as ...</td>\n",
              "      <td>1</td>\n",
              "    </tr>\n",
              "  </tbody>\n",
              "</table>\n",
              "</div>\n",
              "      <button class=\"colab-df-convert\" onclick=\"convertToInteractive('df-60ce6e14-391a-4921-9643-ff07be8cdba3')\"\n",
              "              title=\"Convert this dataframe to an interactive table.\"\n",
              "              style=\"display:none;\">\n",
              "        \n",
              "  <svg xmlns=\"http://www.w3.org/2000/svg\" height=\"24px\"viewBox=\"0 0 24 24\"\n",
              "       width=\"24px\">\n",
              "    <path d=\"M0 0h24v24H0V0z\" fill=\"none\"/>\n",
              "    <path d=\"M18.56 5.44l.94 2.06.94-2.06 2.06-.94-2.06-.94-.94-2.06-.94 2.06-2.06.94zm-11 1L8.5 8.5l.94-2.06 2.06-.94-2.06-.94L8.5 2.5l-.94 2.06-2.06.94zm10 10l.94 2.06.94-2.06 2.06-.94-2.06-.94-.94-2.06-.94 2.06-2.06.94z\"/><path d=\"M17.41 7.96l-1.37-1.37c-.4-.4-.92-.59-1.43-.59-.52 0-1.04.2-1.43.59L10.3 9.45l-7.72 7.72c-.78.78-.78 2.05 0 2.83L4 21.41c.39.39.9.59 1.41.59.51 0 1.02-.2 1.41-.59l7.78-7.78 2.81-2.81c.8-.78.8-2.07 0-2.86zM5.41 20L4 18.59l7.72-7.72 1.47 1.35L5.41 20z\"/>\n",
              "  </svg>\n",
              "      </button>\n",
              "      \n",
              "  <style>\n",
              "    .colab-df-container {\n",
              "      display:flex;\n",
              "      flex-wrap:wrap;\n",
              "      gap: 12px;\n",
              "    }\n",
              "\n",
              "    .colab-df-convert {\n",
              "      background-color: #E8F0FE;\n",
              "      border: none;\n",
              "      border-radius: 50%;\n",
              "      cursor: pointer;\n",
              "      display: none;\n",
              "      fill: #1967D2;\n",
              "      height: 32px;\n",
              "      padding: 0 0 0 0;\n",
              "      width: 32px;\n",
              "    }\n",
              "\n",
              "    .colab-df-convert:hover {\n",
              "      background-color: #E2EBFA;\n",
              "      box-shadow: 0px 1px 2px rgba(60, 64, 67, 0.3), 0px 1px 3px 1px rgba(60, 64, 67, 0.15);\n",
              "      fill: #174EA6;\n",
              "    }\n",
              "\n",
              "    [theme=dark] .colab-df-convert {\n",
              "      background-color: #3B4455;\n",
              "      fill: #D2E3FC;\n",
              "    }\n",
              "\n",
              "    [theme=dark] .colab-df-convert:hover {\n",
              "      background-color: #434B5C;\n",
              "      box-shadow: 0px 1px 3px 1px rgba(0, 0, 0, 0.15);\n",
              "      filter: drop-shadow(0px 1px 2px rgba(0, 0, 0, 0.3));\n",
              "      fill: #FFFFFF;\n",
              "    }\n",
              "  </style>\n",
              "\n",
              "      <script>\n",
              "        const buttonEl =\n",
              "          document.querySelector('#df-60ce6e14-391a-4921-9643-ff07be8cdba3 button.colab-df-convert');\n",
              "        buttonEl.style.display =\n",
              "          google.colab.kernel.accessAllowed ? 'block' : 'none';\n",
              "\n",
              "        async function convertToInteractive(key) {\n",
              "          const element = document.querySelector('#df-60ce6e14-391a-4921-9643-ff07be8cdba3');\n",
              "          const dataTable =\n",
              "            await google.colab.kernel.invokeFunction('convertToInteractive',\n",
              "                                                     [key], {});\n",
              "          if (!dataTable) return;\n",
              "\n",
              "          const docLinkHtml = 'Like what you see? Visit the ' +\n",
              "            '<a target=\"_blank\" href=https://colab.research.google.com/notebooks/data_table.ipynb>data table notebook</a>'\n",
              "            + ' to learn more about interactive tables.';\n",
              "          element.innerHTML = '';\n",
              "          dataTable['output_type'] = 'display_data';\n",
              "          await google.colab.output.renderOutput(dataTable, element);\n",
              "          const docLink = document.createElement('div');\n",
              "          docLink.innerHTML = docLinkHtml;\n",
              "          element.appendChild(docLink);\n",
              "        }\n",
              "      </script>\n",
              "    </div>\n",
              "  </div>\n",
              "  "
            ],
            "text/plain": [
              "   id keyword  ...                                               text target\n",
              "0   1     NaN  ...  Our Deeds are the Reason of this #earthquake M...      1\n",
              "1   4     NaN  ...             Forest fire near La Ronge Sask. Canada      1\n",
              "2   5     NaN  ...  All residents asked to 'shelter in place' are ...      1\n",
              "3   6     NaN  ...  13,000 people receive #wildfires evacuation or...      1\n",
              "4   7     NaN  ...  Just got sent this photo from Ruby #Alaska as ...      1\n",
              "\n",
              "[5 rows x 5 columns]"
            ]
          },
          "metadata": {},
          "execution_count": 4
        }
      ]
    },
    {
      "cell_type": "markdown",
      "source": [
        "**Target labels**\n",
        "\n",
        "* `0` = not disaster\n",
        "* `1` = disaster"
      ],
      "metadata": {
        "id": "I9moxq4wzUXt"
      }
    },
    {
      "cell_type": "code",
      "source": [
        "print(f'total number of training data: {len(train_df)}')\n",
        "print(f'total number of test data: {len(test_df)}')"
      ],
      "metadata": {
        "colab": {
          "base_uri": "https://localhost:8080/"
        },
        "id": "b8RCke7wIn7M",
        "outputId": "44212488-ceae-4fac-c2d1-6ddb702daebf"
      },
      "execution_count": 5,
      "outputs": [
        {
          "output_type": "stream",
          "name": "stdout",
          "text": [
            "total number of training data: 7613\n",
            "total number of test data: 3263\n"
          ]
        }
      ]
    },
    {
      "cell_type": "code",
      "source": [
        "print(train_df['text'][0])\n",
        "print(train_df['text'][1])\n",
        "print(train_df['text'][7612])"
      ],
      "metadata": {
        "colab": {
          "base_uri": "https://localhost:8080/"
        },
        "id": "Lmd0TGRhHw47",
        "outputId": "fc7d3ddb-1dde-4136-8204-330e3e69df9b"
      },
      "execution_count": 6,
      "outputs": [
        {
          "output_type": "stream",
          "name": "stdout",
          "text": [
            "Our Deeds are the Reason of this #earthquake May ALLAH Forgive us all\n",
            "Forest fire near La Ronge Sask. Canada\n",
            "The Latest: More Homes Razed by Northern California Wildfire - ABC News http://t.co/YmY4rSkQ3d\n"
          ]
        }
      ]
    },
    {
      "cell_type": "code",
      "source": [
        "# Shuffle training dataframe\n",
        "train_df_shuffled = train_df.sample(frac=1, random_state=42)     \n",
        "# frac = 1: shuffle everything\n",
        "# shuffle the data because we want the model not to memorize the pattern\n",
        "train_df_shuffled.head()"
      ],
      "metadata": {
        "colab": {
          "base_uri": "https://localhost:8080/",
          "height": 206
        },
        "id": "RPNrk-V5Ic2q",
        "outputId": "ec6634af-e4cc-49f7-8cf0-5c62d0f0caba"
      },
      "execution_count": 7,
      "outputs": [
        {
          "output_type": "execute_result",
          "data": {
            "text/html": [
              "\n",
              "  <div id=\"df-6a062d28-578f-46f7-a16d-84c68e441b08\">\n",
              "    <div class=\"colab-df-container\">\n",
              "      <div>\n",
              "<style scoped>\n",
              "    .dataframe tbody tr th:only-of-type {\n",
              "        vertical-align: middle;\n",
              "    }\n",
              "\n",
              "    .dataframe tbody tr th {\n",
              "        vertical-align: top;\n",
              "    }\n",
              "\n",
              "    .dataframe thead th {\n",
              "        text-align: right;\n",
              "    }\n",
              "</style>\n",
              "<table border=\"1\" class=\"dataframe\">\n",
              "  <thead>\n",
              "    <tr style=\"text-align: right;\">\n",
              "      <th></th>\n",
              "      <th>id</th>\n",
              "      <th>keyword</th>\n",
              "      <th>location</th>\n",
              "      <th>text</th>\n",
              "      <th>target</th>\n",
              "    </tr>\n",
              "  </thead>\n",
              "  <tbody>\n",
              "    <tr>\n",
              "      <th>2644</th>\n",
              "      <td>3796</td>\n",
              "      <td>destruction</td>\n",
              "      <td>NaN</td>\n",
              "      <td>So you have a new weapon that can cause un-ima...</td>\n",
              "      <td>1</td>\n",
              "    </tr>\n",
              "    <tr>\n",
              "      <th>2227</th>\n",
              "      <td>3185</td>\n",
              "      <td>deluge</td>\n",
              "      <td>NaN</td>\n",
              "      <td>The f$&amp;amp;@ing things I do for #GISHWHES Just...</td>\n",
              "      <td>0</td>\n",
              "    </tr>\n",
              "    <tr>\n",
              "      <th>5448</th>\n",
              "      <td>7769</td>\n",
              "      <td>police</td>\n",
              "      <td>UK</td>\n",
              "      <td>DT @georgegalloway: RT @Galloway4Mayor: ÛÏThe...</td>\n",
              "      <td>1</td>\n",
              "    </tr>\n",
              "    <tr>\n",
              "      <th>132</th>\n",
              "      <td>191</td>\n",
              "      <td>aftershock</td>\n",
              "      <td>NaN</td>\n",
              "      <td>Aftershock back to school kick off was great. ...</td>\n",
              "      <td>0</td>\n",
              "    </tr>\n",
              "    <tr>\n",
              "      <th>6845</th>\n",
              "      <td>9810</td>\n",
              "      <td>trauma</td>\n",
              "      <td>Montgomery County, MD</td>\n",
              "      <td>in response to trauma Children of Addicts deve...</td>\n",
              "      <td>0</td>\n",
              "    </tr>\n",
              "  </tbody>\n",
              "</table>\n",
              "</div>\n",
              "      <button class=\"colab-df-convert\" onclick=\"convertToInteractive('df-6a062d28-578f-46f7-a16d-84c68e441b08')\"\n",
              "              title=\"Convert this dataframe to an interactive table.\"\n",
              "              style=\"display:none;\">\n",
              "        \n",
              "  <svg xmlns=\"http://www.w3.org/2000/svg\" height=\"24px\"viewBox=\"0 0 24 24\"\n",
              "       width=\"24px\">\n",
              "    <path d=\"M0 0h24v24H0V0z\" fill=\"none\"/>\n",
              "    <path d=\"M18.56 5.44l.94 2.06.94-2.06 2.06-.94-2.06-.94-.94-2.06-.94 2.06-2.06.94zm-11 1L8.5 8.5l.94-2.06 2.06-.94-2.06-.94L8.5 2.5l-.94 2.06-2.06.94zm10 10l.94 2.06.94-2.06 2.06-.94-2.06-.94-.94-2.06-.94 2.06-2.06.94z\"/><path d=\"M17.41 7.96l-1.37-1.37c-.4-.4-.92-.59-1.43-.59-.52 0-1.04.2-1.43.59L10.3 9.45l-7.72 7.72c-.78.78-.78 2.05 0 2.83L4 21.41c.39.39.9.59 1.41.59.51 0 1.02-.2 1.41-.59l7.78-7.78 2.81-2.81c.8-.78.8-2.07 0-2.86zM5.41 20L4 18.59l7.72-7.72 1.47 1.35L5.41 20z\"/>\n",
              "  </svg>\n",
              "      </button>\n",
              "      \n",
              "  <style>\n",
              "    .colab-df-container {\n",
              "      display:flex;\n",
              "      flex-wrap:wrap;\n",
              "      gap: 12px;\n",
              "    }\n",
              "\n",
              "    .colab-df-convert {\n",
              "      background-color: #E8F0FE;\n",
              "      border: none;\n",
              "      border-radius: 50%;\n",
              "      cursor: pointer;\n",
              "      display: none;\n",
              "      fill: #1967D2;\n",
              "      height: 32px;\n",
              "      padding: 0 0 0 0;\n",
              "      width: 32px;\n",
              "    }\n",
              "\n",
              "    .colab-df-convert:hover {\n",
              "      background-color: #E2EBFA;\n",
              "      box-shadow: 0px 1px 2px rgba(60, 64, 67, 0.3), 0px 1px 3px 1px rgba(60, 64, 67, 0.15);\n",
              "      fill: #174EA6;\n",
              "    }\n",
              "\n",
              "    [theme=dark] .colab-df-convert {\n",
              "      background-color: #3B4455;\n",
              "      fill: #D2E3FC;\n",
              "    }\n",
              "\n",
              "    [theme=dark] .colab-df-convert:hover {\n",
              "      background-color: #434B5C;\n",
              "      box-shadow: 0px 1px 3px 1px rgba(0, 0, 0, 0.15);\n",
              "      filter: drop-shadow(0px 1px 2px rgba(0, 0, 0, 0.3));\n",
              "      fill: #FFFFFF;\n",
              "    }\n",
              "  </style>\n",
              "\n",
              "      <script>\n",
              "        const buttonEl =\n",
              "          document.querySelector('#df-6a062d28-578f-46f7-a16d-84c68e441b08 button.colab-df-convert');\n",
              "        buttonEl.style.display =\n",
              "          google.colab.kernel.accessAllowed ? 'block' : 'none';\n",
              "\n",
              "        async function convertToInteractive(key) {\n",
              "          const element = document.querySelector('#df-6a062d28-578f-46f7-a16d-84c68e441b08');\n",
              "          const dataTable =\n",
              "            await google.colab.kernel.invokeFunction('convertToInteractive',\n",
              "                                                     [key], {});\n",
              "          if (!dataTable) return;\n",
              "\n",
              "          const docLinkHtml = 'Like what you see? Visit the ' +\n",
              "            '<a target=\"_blank\" href=https://colab.research.google.com/notebooks/data_table.ipynb>data table notebook</a>'\n",
              "            + ' to learn more about interactive tables.';\n",
              "          element.innerHTML = '';\n",
              "          dataTable['output_type'] = 'display_data';\n",
              "          await google.colab.output.renderOutput(dataTable, element);\n",
              "          const docLink = document.createElement('div');\n",
              "          docLink.innerHTML = docLinkHtml;\n",
              "          element.appendChild(docLink);\n",
              "        }\n",
              "      </script>\n",
              "    </div>\n",
              "  </div>\n",
              "  "
            ],
            "text/plain": [
              "        id  ... target\n",
              "2644  3796  ...      1\n",
              "2227  3185  ...      0\n",
              "5448  7769  ...      1\n",
              "132    191  ...      0\n",
              "6845  9810  ...      0\n",
              "\n",
              "[5 rows x 5 columns]"
            ]
          },
          "metadata": {},
          "execution_count": 7
        }
      ]
    },
    {
      "cell_type": "code",
      "source": [
        "# What does the test dataframe look like?\n",
        "test_df.head()"
      ],
      "metadata": {
        "colab": {
          "base_uri": "https://localhost:8080/",
          "height": 206
        },
        "id": "qgJ_83MOI_hM",
        "outputId": "e1ad15c7-8a17-4238-f5de-b30a249c0c8f"
      },
      "execution_count": 8,
      "outputs": [
        {
          "output_type": "execute_result",
          "data": {
            "text/html": [
              "\n",
              "  <div id=\"df-cae8e11c-1641-4a4f-b3fb-50e20b903ba3\">\n",
              "    <div class=\"colab-df-container\">\n",
              "      <div>\n",
              "<style scoped>\n",
              "    .dataframe tbody tr th:only-of-type {\n",
              "        vertical-align: middle;\n",
              "    }\n",
              "\n",
              "    .dataframe tbody tr th {\n",
              "        vertical-align: top;\n",
              "    }\n",
              "\n",
              "    .dataframe thead th {\n",
              "        text-align: right;\n",
              "    }\n",
              "</style>\n",
              "<table border=\"1\" class=\"dataframe\">\n",
              "  <thead>\n",
              "    <tr style=\"text-align: right;\">\n",
              "      <th></th>\n",
              "      <th>id</th>\n",
              "      <th>keyword</th>\n",
              "      <th>location</th>\n",
              "      <th>text</th>\n",
              "    </tr>\n",
              "  </thead>\n",
              "  <tbody>\n",
              "    <tr>\n",
              "      <th>0</th>\n",
              "      <td>0</td>\n",
              "      <td>NaN</td>\n",
              "      <td>NaN</td>\n",
              "      <td>Just happened a terrible car crash</td>\n",
              "    </tr>\n",
              "    <tr>\n",
              "      <th>1</th>\n",
              "      <td>2</td>\n",
              "      <td>NaN</td>\n",
              "      <td>NaN</td>\n",
              "      <td>Heard about #earthquake is different cities, s...</td>\n",
              "    </tr>\n",
              "    <tr>\n",
              "      <th>2</th>\n",
              "      <td>3</td>\n",
              "      <td>NaN</td>\n",
              "      <td>NaN</td>\n",
              "      <td>there is a forest fire at spot pond, geese are...</td>\n",
              "    </tr>\n",
              "    <tr>\n",
              "      <th>3</th>\n",
              "      <td>9</td>\n",
              "      <td>NaN</td>\n",
              "      <td>NaN</td>\n",
              "      <td>Apocalypse lighting. #Spokane #wildfires</td>\n",
              "    </tr>\n",
              "    <tr>\n",
              "      <th>4</th>\n",
              "      <td>11</td>\n",
              "      <td>NaN</td>\n",
              "      <td>NaN</td>\n",
              "      <td>Typhoon Soudelor kills 28 in China and Taiwan</td>\n",
              "    </tr>\n",
              "  </tbody>\n",
              "</table>\n",
              "</div>\n",
              "      <button class=\"colab-df-convert\" onclick=\"convertToInteractive('df-cae8e11c-1641-4a4f-b3fb-50e20b903ba3')\"\n",
              "              title=\"Convert this dataframe to an interactive table.\"\n",
              "              style=\"display:none;\">\n",
              "        \n",
              "  <svg xmlns=\"http://www.w3.org/2000/svg\" height=\"24px\"viewBox=\"0 0 24 24\"\n",
              "       width=\"24px\">\n",
              "    <path d=\"M0 0h24v24H0V0z\" fill=\"none\"/>\n",
              "    <path d=\"M18.56 5.44l.94 2.06.94-2.06 2.06-.94-2.06-.94-.94-2.06-.94 2.06-2.06.94zm-11 1L8.5 8.5l.94-2.06 2.06-.94-2.06-.94L8.5 2.5l-.94 2.06-2.06.94zm10 10l.94 2.06.94-2.06 2.06-.94-2.06-.94-.94-2.06-.94 2.06-2.06.94z\"/><path d=\"M17.41 7.96l-1.37-1.37c-.4-.4-.92-.59-1.43-.59-.52 0-1.04.2-1.43.59L10.3 9.45l-7.72 7.72c-.78.78-.78 2.05 0 2.83L4 21.41c.39.39.9.59 1.41.59.51 0 1.02-.2 1.41-.59l7.78-7.78 2.81-2.81c.8-.78.8-2.07 0-2.86zM5.41 20L4 18.59l7.72-7.72 1.47 1.35L5.41 20z\"/>\n",
              "  </svg>\n",
              "      </button>\n",
              "      \n",
              "  <style>\n",
              "    .colab-df-container {\n",
              "      display:flex;\n",
              "      flex-wrap:wrap;\n",
              "      gap: 12px;\n",
              "    }\n",
              "\n",
              "    .colab-df-convert {\n",
              "      background-color: #E8F0FE;\n",
              "      border: none;\n",
              "      border-radius: 50%;\n",
              "      cursor: pointer;\n",
              "      display: none;\n",
              "      fill: #1967D2;\n",
              "      height: 32px;\n",
              "      padding: 0 0 0 0;\n",
              "      width: 32px;\n",
              "    }\n",
              "\n",
              "    .colab-df-convert:hover {\n",
              "      background-color: #E2EBFA;\n",
              "      box-shadow: 0px 1px 2px rgba(60, 64, 67, 0.3), 0px 1px 3px 1px rgba(60, 64, 67, 0.15);\n",
              "      fill: #174EA6;\n",
              "    }\n",
              "\n",
              "    [theme=dark] .colab-df-convert {\n",
              "      background-color: #3B4455;\n",
              "      fill: #D2E3FC;\n",
              "    }\n",
              "\n",
              "    [theme=dark] .colab-df-convert:hover {\n",
              "      background-color: #434B5C;\n",
              "      box-shadow: 0px 1px 3px 1px rgba(0, 0, 0, 0.15);\n",
              "      filter: drop-shadow(0px 1px 2px rgba(0, 0, 0, 0.3));\n",
              "      fill: #FFFFFF;\n",
              "    }\n",
              "  </style>\n",
              "\n",
              "      <script>\n",
              "        const buttonEl =\n",
              "          document.querySelector('#df-cae8e11c-1641-4a4f-b3fb-50e20b903ba3 button.colab-df-convert');\n",
              "        buttonEl.style.display =\n",
              "          google.colab.kernel.accessAllowed ? 'block' : 'none';\n",
              "\n",
              "        async function convertToInteractive(key) {\n",
              "          const element = document.querySelector('#df-cae8e11c-1641-4a4f-b3fb-50e20b903ba3');\n",
              "          const dataTable =\n",
              "            await google.colab.kernel.invokeFunction('convertToInteractive',\n",
              "                                                     [key], {});\n",
              "          if (!dataTable) return;\n",
              "\n",
              "          const docLinkHtml = 'Like what you see? Visit the ' +\n",
              "            '<a target=\"_blank\" href=https://colab.research.google.com/notebooks/data_table.ipynb>data table notebook</a>'\n",
              "            + ' to learn more about interactive tables.';\n",
              "          element.innerHTML = '';\n",
              "          dataTable['output_type'] = 'display_data';\n",
              "          await google.colab.output.renderOutput(dataTable, element);\n",
              "          const docLink = document.createElement('div');\n",
              "          docLink.innerHTML = docLinkHtml;\n",
              "          element.appendChild(docLink);\n",
              "        }\n",
              "      </script>\n",
              "    </div>\n",
              "  </div>\n",
              "  "
            ],
            "text/plain": [
              "   id keyword location                                               text\n",
              "0   0     NaN      NaN                 Just happened a terrible car crash\n",
              "1   2     NaN      NaN  Heard about #earthquake is different cities, s...\n",
              "2   3     NaN      NaN  there is a forest fire at spot pond, geese are...\n",
              "3   9     NaN      NaN           Apocalypse lighting. #Spokane #wildfires\n",
              "4  11     NaN      NaN      Typhoon Soudelor kills 28 in China and Taiwan"
            ]
          },
          "metadata": {},
          "execution_count": 8
        }
      ]
    },
    {
      "cell_type": "code",
      "source": [
        "# Check whether our data is balanced or not\n",
        "train_df.target.value_counts()\n",
        "print((train_df.target.value_counts() / len(train_df) ) * 100)"
      ],
      "metadata": {
        "colab": {
          "base_uri": "https://localhost:8080/"
        },
        "id": "pTdn8OelJaLN",
        "outputId": "aa9b4a2f-0ce3-4a8b-84a7-9523bb0a3399"
      },
      "execution_count": 9,
      "outputs": [
        {
          "output_type": "stream",
          "name": "stdout",
          "text": [
            "0    57.034021\n",
            "1    42.965979\n",
            "Name: target, dtype: float64\n"
          ]
        }
      ]
    },
    {
      "cell_type": "code",
      "source": [
        "# Visualize some random training examples\n",
        "import random\n",
        "random_index = random.randint(0, len(train_df)-5)\n",
        "for row in train_df_shuffled[['text', 'target']][random_index: random_index + 5].itertuples():\n",
        "    _, text, target = row        # get rid of the index\n",
        "    print(f'Target: {target}', '(real disaster)' if target > 0 else '(not real disaster)')\n",
        "    print(f'Text:\\n{text}\\n')\n",
        "    print(f'----------------------------------------------------------\\n')\n"
      ],
      "metadata": {
        "colab": {
          "base_uri": "https://localhost:8080/"
        },
        "id": "loEuHdekJSjr",
        "outputId": "09cc2cd7-3755-4136-cbd3-dd72c4d67520"
      },
      "execution_count": 10,
      "outputs": [
        {
          "output_type": "stream",
          "name": "stdout",
          "text": [
            "Target: 0 (not real disaster)\n",
            "Text:\n",
            "I rate Hazard very highly but his fanboys are among the worst accounts on Twitter.\n",
            "\n",
            "----------------------------------------------------------\n",
            "\n",
            "Target: 1 (real disaster)\n",
            "Text:\n",
            "Severe Thunderstorm Warnings have been cancelled in central Oklahoma. Still expect 50 mph winds penny sized hail\n",
            "\n",
            "----------------------------------------------------------\n",
            "\n",
            "Target: 0 (not real disaster)\n",
            "Text:\n",
            "@bellalinn alrighty Hit me up and we'll blaze!!\n",
            "\n",
            "----------------------------------------------------------\n",
            "\n",
            "Target: 1 (real disaster)\n",
            "Text:\n",
            "Thank you to @scegnews! Our neighborhood looks like a war zone but we had power back in 4 hours!\n",
            "\n",
            "----------------------------------------------------------\n",
            "\n",
            "Target: 0 (not real disaster)\n",
            "Text:\n",
            "Blazing Hot! Etisalat Free MB For Complete 12 Months: Etisalat Is Giving out 100MB on TECNO Q1 here is the Ime... http://t.co/AVzsYIe1nT\n",
            "\n",
            "----------------------------------------------------------\n",
            "\n"
          ]
        }
      ]
    },
    {
      "cell_type": "code",
      "source": [
        "# Split data into training and validation sets\n",
        "\n",
        "from sklearn.model_selection import train_test_split\n",
        "\n",
        "train_sentences, val_sentences, train_labels, val_labels = train_test_split(\n",
        "    train_df_shuffled['text'].to_numpy(),\n",
        "    train_df_shuffled['target'].to_numpy(),\n",
        "    test_size = 0.1,       # use 10% of training data for validation sets\n",
        "    random_state = 42\n",
        ")\n",
        "\n",
        "# to_numpy(): pandas method for turning dataframe value into numpy arrays"
      ],
      "metadata": {
        "id": "4Egjq8Y-Js-M"
      },
      "execution_count": 11,
      "outputs": []
    },
    {
      "cell_type": "code",
      "source": [
        "# Check the lengths\n",
        "len(train_sentences), len(train_labels), len(val_sentences), len(val_labels)"
      ],
      "metadata": {
        "colab": {
          "base_uri": "https://localhost:8080/"
        },
        "id": "7bTYWy16NAI0",
        "outputId": "48437d42-59de-4951-9c18-4c9af4b61ba4"
      },
      "execution_count": 12,
      "outputs": [
        {
          "output_type": "execute_result",
          "data": {
            "text/plain": [
              "(6851, 6851, 762, 762)"
            ]
          },
          "metadata": {},
          "execution_count": 12
        }
      ]
    },
    {
      "cell_type": "code",
      "source": [
        "# Check the first 10 samples\n",
        "train_sentences[:10], train_labels[:10]"
      ],
      "metadata": {
        "colab": {
          "base_uri": "https://localhost:8080/"
        },
        "id": "0gDX4dsqNaxG",
        "outputId": "66aea3ba-61f4-4427-ed2f-6cd22a903890"
      },
      "execution_count": 13,
      "outputs": [
        {
          "output_type": "execute_result",
          "data": {
            "text/plain": [
              "(array(['@mogacola @zamtriossu i screamed after hitting tweet',\n",
              "        'Imagine getting flattened by Kurt Zouma',\n",
              "        '@Gurmeetramrahim #MSGDoing111WelfareWorks Green S welfare force ke appx 65000 members har time disaster victim ki help ke liye tyar hai....',\n",
              "        \"@shakjn @C7 @Magnums im shaking in fear he's gonna hack the planet\",\n",
              "        'Somehow find you and I collide http://t.co/Ee8RpOahPk',\n",
              "        '@EvaHanderek @MarleyKnysh great times until the bus driver held us hostage in the mall parking lot lmfao',\n",
              "        'destroy the free fandom honestly',\n",
              "        'Weapons stolen from National Guard Armory in New Albany still missing #Gunsense http://t.co/lKNU8902JE',\n",
              "        '@wfaaweather Pete when will the heat wave pass? Is it really going to be mid month? Frisco Boy Scouts have a canoe trip in Okla.',\n",
              "        'Patient-reported outcomes in long-term survivors of metastatic colorectal cancer - British Journal of Surgery http://t.co/5Yl4DC1Tqt'],\n",
              "       dtype=object), array([0, 0, 1, 0, 0, 1, 1, 0, 1, 1]))"
            ]
          },
          "metadata": {},
          "execution_count": 13
        }
      ]
    },
    {
      "cell_type": "markdown",
      "source": [
        "## Tokenization"
      ],
      "metadata": {
        "id": "eYY7K6a5dtNI"
      }
    },
    {
      "cell_type": "code",
      "source": [
        "# Convert text into numbers\n",
        "# tokenization / text vectorization\n",
        "import tensorflow as tf\n",
        "from tensorflow.keras.layers.experimental.preprocessing import TextVectorization"
      ],
      "metadata": {
        "id": "gOTa1SsbNnVo"
      },
      "execution_count": 14,
      "outputs": []
    },
    {
      "cell_type": "code",
      "source": [
        "text_vecotrizer = TextVectorization(max_tokens = None,\n",
        "                                    standardize = 'lower_and_strip_punctuation',\n",
        "                                    split='whitespace',\n",
        "                                    ngrams = None,\n",
        "                                    output_mode = 'int',\n",
        "                                    output_sequence_length = None\n",
        "                                    )"
      ],
      "metadata": {
        "id": "Sr_aotQnSmZm"
      },
      "execution_count": 15,
      "outputs": []
    },
    {
      "cell_type": "code",
      "source": [
        "train_sentences[0].split()"
      ],
      "metadata": {
        "colab": {
          "base_uri": "https://localhost:8080/"
        },
        "id": "FHdulKDdWZ2J",
        "outputId": "83a4a8b2-e6ce-4bc5-9341-22e164badf1d"
      },
      "execution_count": 16,
      "outputs": [
        {
          "output_type": "execute_result",
          "data": {
            "text/plain": [
              "['@mogacola', '@zamtriossu', 'i', 'screamed', 'after', 'hitting', 'tweet']"
            ]
          },
          "metadata": {},
          "execution_count": 16
        }
      ]
    },
    {
      "cell_type": "code",
      "source": [
        "# Find the average number of tokens in the training tweets\n",
        "round(sum([len(i.split()) for i in train_sentences]) / len(train_sentences))"
      ],
      "metadata": {
        "colab": {
          "base_uri": "https://localhost:8080/"
        },
        "id": "zQd77eCvVoDB",
        "outputId": "3b6fbcc1-ac86-4bde-cc69-0d835528346a"
      },
      "execution_count": 17,
      "outputs": [
        {
          "output_type": "execute_result",
          "data": {
            "text/plain": [
              "15"
            ]
          },
          "metadata": {},
          "execution_count": 17
        }
      ]
    },
    {
      "cell_type": "code",
      "source": [
        "# Setup text vectorization variables\n",
        "max_vocab_length = 10000       # max number of words to have in our vocabulary\n",
        "# total number of vocab\n",
        "# top 10000 frequent vocabs\n",
        "# below 10000, <OOV>\n",
        "max_length = 15                # max length of our sequences\n",
        "# If one tweet has 30 words, we only see first 15 words of that tweet"
      ],
      "metadata": {
        "id": "rOCg3DazWlGa"
      },
      "execution_count": 18,
      "outputs": []
    },
    {
      "cell_type": "code",
      "source": [
        "text_vectorizer = TextVectorization(max_tokens = max_vocab_length,\n",
        "                                    output_mode = 'int',\n",
        "                                    output_sequence_length = max_length\n",
        "                                    )"
      ],
      "metadata": {
        "id": "6UswxKapX9Xw"
      },
      "execution_count": 19,
      "outputs": []
    },
    {
      "cell_type": "code",
      "source": [
        "# Fit the text vectorizer to the training text (only)\n",
        "text_vectorizer.adapt(train_sentences)"
      ],
      "metadata": {
        "id": "5XSIZupBYQwh"
      },
      "execution_count": 20,
      "outputs": []
    },
    {
      "cell_type": "code",
      "source": [
        "# Create a sample sentence and tokenize it\n",
        "sample_sentence = \"There's a flood in my street!\"\n",
        "text_vectorizer([sample_sentence])"
      ],
      "metadata": {
        "colab": {
          "base_uri": "https://localhost:8080/"
        },
        "id": "9SA1pdJfZD-i",
        "outputId": "cd2a4278-8a09-40d8-c80f-43026fc91927"
      },
      "execution_count": 21,
      "outputs": [
        {
          "output_type": "execute_result",
          "data": {
            "text/plain": [
              "<tf.Tensor: shape=(1, 15), dtype=int64, numpy=\n",
              "array([[264,   3, 232,   4,  13, 698,   0,   0,   0,   0,   0,   0,   0,\n",
              "          0,   0]])>"
            ]
          },
          "metadata": {},
          "execution_count": 21
        }
      ]
    },
    {
      "cell_type": "code",
      "source": [
        "# Choose a random sentence from the training dataset and tokenize it\n",
        "random_sentence = random.choice(train_sentences)\n",
        "print(f'Original text:\\n {random_sentence}\\\n",
        "\\n\\n Vectorized version:')\n",
        "text_vectorizer([random_sentence])"
      ],
      "metadata": {
        "colab": {
          "base_uri": "https://localhost:8080/"
        },
        "id": "CUccc2D5ZXYo",
        "outputId": "d9a43ef6-bb39-4cd3-e93f-2d6aa9214a45"
      },
      "execution_count": 22,
      "outputs": [
        {
          "output_type": "stream",
          "name": "stdout",
          "text": [
            "Original text:\n",
            " Islamic State group in Egypt threatens to kill Croat hostage http://t.co/VdgfXYX3bw\n",
            "\n",
            " Vectorized version:\n"
          ]
        },
        {
          "output_type": "execute_result",
          "data": {
            "text/plain": [
              "<tf.Tensor: shape=(1, 15), dtype=int64, numpy=\n",
              "array([[1279,  265,  484,    4, 5744, 1949,    5,  542, 5883,  509,    1,\n",
              "           0,    0,    0,    0]])>"
            ]
          },
          "metadata": {},
          "execution_count": 22
        }
      ]
    },
    {
      "cell_type": "code",
      "source": [
        "# Get the unique words in the vocabulary\n",
        "words_in_vocab = text_vectorizer.get_vocabulary()  # get all of the unique words in our training data\n",
        "top_5_words = words_in_vocab[:5]        # get the most common words\n",
        "bottom_5_words=words_in_vocab[-5:]      # get the least common words\n",
        "print(f'Number of words in vocab: {len(words_in_vocab)}')\n",
        "print(f'5 most common words: {top_5_words}')\n",
        "print(f'5 least common words: {bottom_5_words}')"
      ],
      "metadata": {
        "colab": {
          "base_uri": "https://localhost:8080/"
        },
        "id": "2Tl_LePua-Vd",
        "outputId": "4b902d0b-3e55-4cdb-ff83-5e2e0ff4d110"
      },
      "execution_count": 23,
      "outputs": [
        {
          "output_type": "stream",
          "name": "stdout",
          "text": [
            "Number of words in vocab: 10000\n",
            "5 most common words: ['', '[UNK]', 'the', 'a', 'in']\n",
            "5 least common words: ['pages', 'paeds', 'pads', 'padres', 'paddytomlinson1']\n"
          ]
        }
      ]
    },
    {
      "cell_type": "markdown",
      "source": [
        "* [UNK] : words outside of top 10000 (not frequently appeared words)"
      ],
      "metadata": {
        "id": "aXMOQcEjcxzL"
      }
    },
    {
      "cell_type": "markdown",
      "source": [
        "## Embedding"
      ],
      "metadata": {
        "id": "ZTlmkWuidu5z"
      }
    },
    {
      "cell_type": "code",
      "source": [
        "# Create an Embedding using TensorFlow's embedding layer\n",
        "\n",
        "from tensorflow.keras import layers\n",
        "embedding = layers.Embedding(input_dim = max_vocab_length,    # input shape\n",
        "                             output_dim = 128,                # output shape\n",
        "                             input_length = max_length  # how long is each input\n",
        "                             )\n",
        "embedding"
      ],
      "metadata": {
        "colab": {
          "base_uri": "https://localhost:8080/"
        },
        "id": "JkLzgiIIcjSX",
        "outputId": "c6eb7a00-8c4a-41d1-9df6-e4ea1ce69049"
      },
      "execution_count": 24,
      "outputs": [
        {
          "output_type": "execute_result",
          "data": {
            "text/plain": [
              "<keras.layers.embeddings.Embedding at 0x7f81e04917d0>"
            ]
          },
          "metadata": {},
          "execution_count": 24
        }
      ]
    },
    {
      "cell_type": "code",
      "source": [
        "# Get a random sentence from the training set\n",
        "random_sentence = random.choice(train_sentences)\n",
        "print(f'Original text:\\n {random_sentence}\\\n",
        "\\n\\nEmbedded Version:')\n",
        "\n",
        "# Embed the random sentence \n",
        "# Turn positive integers (indexes) into dense vectors of fixed size\n",
        "# Thus before embedding we need to turn our sentences into numeric form\n",
        "# And to do that we already defined text vectorizer\n",
        "sample_embed = embedding(text_vectorizer([random_sentence]))\n",
        "sample_embed"
      ],
      "metadata": {
        "colab": {
          "base_uri": "https://localhost:8080/"
        },
        "id": "V2eJhXHcfH4R",
        "outputId": "ac0bec3a-da34-426b-99f7-b13be0e8f12f"
      },
      "execution_count": 25,
      "outputs": [
        {
          "output_type": "stream",
          "name": "stdout",
          "text": [
            "Original text:\n",
            " More than a crush ???????????? WCE @nykaeD_ ?????????? http://t.co/mkJO8x2dKo\n",
            "\n",
            "Embedded Version:\n"
          ]
        },
        {
          "output_type": "execute_result",
          "data": {
            "text/plain": [
              "<tf.Tensor: shape=(1, 15, 128), dtype=float32, numpy=\n",
              "array([[[-0.00533642,  0.02275315, -0.02913733, ..., -0.02240806,\n",
              "         -0.03572235,  0.00267633],\n",
              "        [-0.02403455, -0.00012401,  0.02796492, ...,  0.0469862 ,\n",
              "         -0.02376471,  0.04646616],\n",
              "        [ 0.04587254, -0.04378983,  0.01453221, ...,  0.02774575,\n",
              "          0.00317079, -0.02277566],\n",
              "        ...,\n",
              "        [ 0.04023964, -0.03483325, -0.00590266, ...,  0.00486644,\n",
              "         -0.02452649,  0.041711  ],\n",
              "        [ 0.04023964, -0.03483325, -0.00590266, ...,  0.00486644,\n",
              "         -0.02452649,  0.041711  ],\n",
              "        [ 0.04023964, -0.03483325, -0.00590266, ...,  0.00486644,\n",
              "         -0.02452649,  0.041711  ]]], dtype=float32)>"
            ]
          },
          "metadata": {},
          "execution_count": 25
        }
      ]
    },
    {
      "cell_type": "markdown",
      "source": [
        "* shape = (1, 15, 128)\n",
        "    * 1: one sequence\n",
        "    * 15: 15 tokens\n",
        "    * 128: 128 long vectors per token (`output_dim` = 128)"
      ],
      "metadata": {
        "id": "1UJPT-v0gGas"
      }
    },
    {
      "cell_type": "code",
      "source": [
        "# Check out a single token's embedding\n",
        "sample_embed[0][0], sample_embed[0][0].shape, random_sentence"
      ],
      "metadata": {
        "id": "X6Ce9Lg8f8SD",
        "outputId": "a8d258d3-4f2f-4cd0-d324-6288b99feb95",
        "colab": {
          "base_uri": "https://localhost:8080/"
        }
      },
      "execution_count": 26,
      "outputs": [
        {
          "output_type": "execute_result",
          "data": {
            "text/plain": [
              "(<tf.Tensor: shape=(128,), dtype=float32, numpy=\n",
              " array([-0.00533642,  0.02275315, -0.02913733, -0.01263303, -0.01477242,\n",
              "        -0.01121311, -0.03312246,  0.03584376,  0.02880759, -0.04268605,\n",
              "         0.040134  , -0.03512094,  0.02610746, -0.02138939, -0.04535457,\n",
              "         0.04783794,  0.01521856, -0.01828586, -0.01830919, -0.01470264,\n",
              "         0.0206229 , -0.03708997,  0.04882305, -0.03038664,  0.02892398,\n",
              "         0.01140849, -0.01832657, -0.01542039,  0.02924171,  0.02374487,\n",
              "        -0.01955774,  0.04814941,  0.03467575,  0.00141805, -0.04373701,\n",
              "         0.01720742,  0.00124534,  0.03254298,  0.02685639,  0.03028384,\n",
              "         0.0048878 , -0.03547919,  0.00299058, -0.00020547, -0.04439661,\n",
              "        -0.03102088,  0.01324383, -0.016147  ,  0.02637638,  0.02145353,\n",
              "         0.00699966, -0.0298677 ,  0.03259419,  0.04617885,  0.04653997,\n",
              "         0.04382536, -0.00619744,  0.01511445, -0.03335291, -0.03543363,\n",
              "         0.0467797 ,  0.02726236, -0.04460144,  0.0061435 , -0.00537188,\n",
              "        -0.00196422,  0.02935542,  0.02910327,  0.037168  , -0.0336221 ,\n",
              "         0.02720212,  0.00693318,  0.03927917, -0.01063933,  0.04110488,\n",
              "        -0.04898201,  0.00411858, -0.03669685, -0.00574887, -0.04575545,\n",
              "        -0.03184205, -0.01690149,  0.02992212,  0.01083139,  0.02071415,\n",
              "         0.02747576, -0.01285381, -0.00972217, -0.01958921,  0.01032189,\n",
              "        -0.02674608,  0.01650765, -0.02924165, -0.02063443, -0.02500993,\n",
              "        -0.02597017, -0.00084484, -0.00713949,  0.04574278, -0.01837002,\n",
              "        -0.00070914, -0.018031  ,  0.02865874,  0.0400412 ,  0.04924401,\n",
              "         0.03618449,  0.03400664,  0.02821484, -0.0074703 ,  0.01744035,\n",
              "        -0.04623757,  0.04382269, -0.02593173, -0.04485399, -0.02204239,\n",
              "        -0.04763978,  0.03324364, -0.00993047, -0.02141467, -0.02829143,\n",
              "        -0.03199472, -0.04983767,  0.03708067,  0.00147073,  0.02834341,\n",
              "        -0.02240806, -0.03572235,  0.00267633], dtype=float32)>,\n",
              " TensorShape([128]),\n",
              " 'More than a crush ???????????? WCE @nykaeD_ ?????????? http://t.co/mkJO8x2dKo')"
            ]
          },
          "metadata": {},
          "execution_count": 26
        }
      ]
    },
    {
      "cell_type": "markdown",
      "source": [
        "# Model 0: Naive Bayes (baseline)"
      ],
      "metadata": {
        "id": "I5GpOyHmAamr"
      }
    },
    {
      "cell_type": "code",
      "source": [
        "from sklearn.feature_extraction.text import TfidfVectorizer\n",
        "from sklearn.naive_bayes import MultinomialNB\n",
        "from sklearn.pipeline import Pipeline\n",
        "\n",
        "# Create tokenization and modelling pipeline\n",
        "model_0 = Pipeline([\n",
        "                    ('tfidf', TfidfVectorizer()),    # convert words to numbers using tfidf\n",
        "                    ('clf', MultinomialNB())\n",
        "])\n",
        "\n",
        "# Fit the pipeline to the training data\n",
        "model_0.fit(train_sentences, train_labels)"
      ],
      "metadata": {
        "colab": {
          "base_uri": "https://localhost:8080/"
        },
        "id": "kEm3OLQ__F45",
        "outputId": "ac79f951-b313-4d65-ab09-9b60b9642004"
      },
      "execution_count": 27,
      "outputs": [
        {
          "output_type": "execute_result",
          "data": {
            "text/plain": [
              "Pipeline(steps=[('tfidf', TfidfVectorizer()), ('clf', MultinomialNB())])"
            ]
          },
          "metadata": {},
          "execution_count": 27
        }
      ]
    },
    {
      "cell_type": "code",
      "source": [
        "# Evaluate the baseline model\n",
        "baseline_score = model_0.score(val_sentences, val_labels)\n",
        "print(f'Our baseline model achieves an accuracy of: {baseline_score*100:.2f}%')"
      ],
      "metadata": {
        "colab": {
          "base_uri": "https://localhost:8080/"
        },
        "id": "P8Fw7WSzFfPv",
        "outputId": "e1b2ab47-a999-4eae-8465-594eba9806d8"
      },
      "execution_count": 28,
      "outputs": [
        {
          "output_type": "stream",
          "name": "stdout",
          "text": [
            "Our baseline model achieves an accuracy of: 79.27%\n"
          ]
        }
      ]
    },
    {
      "cell_type": "code",
      "source": [
        "# Make predictions\n",
        "baseline_preds = model_0.predict(val_sentences)\n",
        "baseline_preds[:20]"
      ],
      "metadata": {
        "colab": {
          "base_uri": "https://localhost:8080/"
        },
        "id": "919T3CvjGEe5",
        "outputId": "6cbc434a-f14d-4653-d806-c4206498ce0a"
      },
      "execution_count": 29,
      "outputs": [
        {
          "output_type": "execute_result",
          "data": {
            "text/plain": [
              "array([1, 1, 1, 0, 0, 1, 1, 1, 1, 0, 0, 1, 0, 0, 0, 0, 0, 0, 0, 1])"
            ]
          },
          "metadata": {},
          "execution_count": 29
        }
      ]
    },
    {
      "cell_type": "code",
      "source": [
        "# DIY\n",
        "def model_evaluate(pred, true):\n",
        "    count = (pred == true).sum()\n",
        "    return (count / len(val_labels)) * 100\n",
        "\n",
        "print('The accuracy of Model_0 is', round(model_evaluate(baseline_preds, val_labels), 2), '%')"
      ],
      "metadata": {
        "colab": {
          "base_uri": "https://localhost:8080/"
        },
        "id": "y12cR88tHB9Z",
        "outputId": "b09e5830-06b3-46c3-b021-925efad03146"
      },
      "execution_count": 30,
      "outputs": [
        {
          "output_type": "stream",
          "name": "stdout",
          "text": [
            "The accuracy of Model_0 is 79.27 %\n"
          ]
        }
      ]
    },
    {
      "cell_type": "markdown",
      "source": [
        "## Creating an evaluation function\n",
        "* Key: compare y_pred and y_true\n",
        "* Classification evaluation methods\n",
        "    * Accuracy\n",
        "    * Precision\n",
        "    * Recall\n",
        "    * F1-score\n"
      ],
      "metadata": {
        "id": "F0lnqQ1YKXhy"
      }
    },
    {
      "cell_type": "code",
      "source": [
        "from sklearn.metrics import accuracy_score, precision_recall_fscore_support\n",
        "\n",
        "def calculate_results(y_true, y_pred):\n",
        "    \"\"\"\n",
        "    Calculates model accuracy, precision, recall, and f1 score of a binary classification model\n",
        "    \"\"\"\n",
        "\n",
        "    # Calculate model accuracy\n",
        "    model_accuracy = accuracy_score(y_true, y_pred) * 100\n",
        "    # Calculate model precision, recall, and f1-score using weighted average\n",
        "    model_precision, model_recall, model_f1, _ = precision_recall_fscore_support(y_true, y_pred, average='weighted')\n",
        "    model_results = {'accuracy': model_accuracy,\n",
        "                     'precision': model_precision,\n",
        "                     'recall': model_recall,\n",
        "                     'f1': model_f1}\n",
        "    return model_results"
      ],
      "metadata": {
        "id": "MMc6LMYgJiiW"
      },
      "execution_count": 31,
      "outputs": []
    },
    {
      "cell_type": "markdown",
      "source": [
        "* Calculating f1-score using \"weighted\" average:\n",
        "    * Calculate metrics for each label, and find their average weighted by support (the number of true instances for each label)\n",
        "    * Take label imbalance into account"
      ],
      "metadata": {
        "id": "kxbHXo5wMqfg"
      }
    },
    {
      "cell_type": "code",
      "source": [
        "# Get baseline results\n",
        "baseline_results = calculate_results(y_true=val_labels,\n",
        "                                     y_pred=baseline_preds)\n",
        "baseline_results"
      ],
      "metadata": {
        "colab": {
          "base_uri": "https://localhost:8080/"
        },
        "id": "-Tf1Rk-FOilY",
        "outputId": "44c78f3c-ee9e-49cf-b798-75c1eddb1df9"
      },
      "execution_count": 32,
      "outputs": [
        {
          "output_type": "execute_result",
          "data": {
            "text/plain": [
              "{'accuracy': 79.26509186351706,\n",
              " 'f1': 0.7862189758049549,\n",
              " 'precision': 0.8111390004213173,\n",
              " 'recall': 0.7926509186351706}"
            ]
          },
          "metadata": {},
          "execution_count": 32
        }
      ]
    },
    {
      "cell_type": "markdown",
      "source": [
        "# Model 1: Feed-forward neural network (dense model)"
      ],
      "metadata": {
        "id": "e7a55AIRPQqD"
      }
    },
    {
      "cell_type": "code",
      "source": [
        "# Create a tensorboard callback\n",
        "# It allows us to track training results of the model\n",
        "import datetime\n",
        "def create_tensorboard_callback(dir_name, experiment_name):\n",
        "     log_dir = dir_name + \"/\" + experiment_name + \"/\" + datetime.datetime.now().strftime(\"%Y%m%d-%H%M%S\")\n",
        "     tensorboard_callback = tf.keras.callbacks.TensorBoard(log_dir=log_dir)\n",
        "\n",
        "     print(f\"Saving TensorBoard log files to: {log_dir}\")\n",
        "     return tensorboard_callback\n",
        "\n",
        "# Create a directory to save TensorBoard logs\n",
        "SAVE_DIR = 'model_logs'"
      ],
      "metadata": {
        "id": "e-C8Kd7LOxto"
      },
      "execution_count": 33,
      "outputs": []
    },
    {
      "cell_type": "code",
      "source": [
        "# Build model with the Functional API\n",
        "from tensorflow.keras import layers\n",
        "inputs = layers.Input(shape=(1,), dtype=tf.string)\n",
        "x = text_vectorizer(inputs)     # turn the input text into numbers\n",
        "x = embedding(x)                # create an embedding\n",
        "x = layers.GlobalAveragePooling1D()(x)\n",
        "outputs = layers.Dense(1, activation='sigmoid')(x)    # binary classification -> sigmoid activation function\n",
        "model_1 = tf.keras.Model(inputs, outputs, name='model_1_dense')"
      ],
      "metadata": {
        "id": "rpcTAn3GQgtQ"
      },
      "execution_count": 34,
      "outputs": []
    },
    {
      "cell_type": "code",
      "source": [
        "model_1.summary()"
      ],
      "metadata": {
        "colab": {
          "base_uri": "https://localhost:8080/"
        },
        "id": "sX5xXAdhRxjn",
        "outputId": "d12d397b-9c46-47b0-bd53-5fde29b1a4c3"
      },
      "execution_count": 35,
      "outputs": [
        {
          "output_type": "stream",
          "name": "stdout",
          "text": [
            "Model: \"model_1_dense\"\n",
            "_________________________________________________________________\n",
            " Layer (type)                Output Shape              Param #   \n",
            "=================================================================\n",
            " input_1 (InputLayer)        [(None, 1)]               0         \n",
            "                                                                 \n",
            " text_vectorization_1 (TextV  (None, 15)               0         \n",
            " ectorization)                                                   \n",
            "                                                                 \n",
            " embedding (Embedding)       (None, 15, 128)           1280000   \n",
            "                                                                 \n",
            " global_average_pooling1d (G  (None, 128)              0         \n",
            " lobalAveragePooling1D)                                          \n",
            "                                                                 \n",
            " dense (Dense)               (None, 1)                 129       \n",
            "                                                                 \n",
            "=================================================================\n",
            "Total params: 1,280,129\n",
            "Trainable params: 1,280,129\n",
            "Non-trainable params: 0\n",
            "_________________________________________________________________\n"
          ]
        }
      ]
    },
    {
      "cell_type": "markdown",
      "source": [
        "* What happens if there's no `GlobalAveragePooling1D()` layer after `embedding` layer? \n",
        "    \n",
        "    Look at the dense layer output shape. \n",
        "\n",
        "    ![2.PNG](data:image/png;base64,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)"
      ],
      "metadata": {
        "id": "GWln6xFNUZIi"
      }
    },
    {
      "cell_type": "code",
      "source": [
        "# Compile the model\n",
        "model_1.compile(loss='binary_crossentropy',\n",
        "                optimizer='Adam',\n",
        "                metrics=['accuracy'])"
      ],
      "metadata": {
        "id": "QLyxnbsQRymm"
      },
      "execution_count": 36,
      "outputs": []
    },
    {
      "cell_type": "code",
      "source": [
        "# Fit the model\n",
        "model_1_history = model_1.fit(train_sentences,\n",
        "                              train_labels,\n",
        "                              epochs=5,\n",
        "                              validation_data = (val_sentences, val_labels),\n",
        "                              callbacks=[create_tensorboard_callback(dir_name=SAVE_DIR,\n",
        "                                                                     experiment_name='model_1_dense')])"
      ],
      "metadata": {
        "colab": {
          "base_uri": "https://localhost:8080/"
        },
        "id": "dkICqaxBSN2_",
        "outputId": "be75ecd1-95de-4108-a41f-3f612b0e27e2"
      },
      "execution_count": 37,
      "outputs": [
        {
          "output_type": "stream",
          "name": "stdout",
          "text": [
            "Saving TensorBoard log files to: model_logs/model_1_dense/20220121-070142\n",
            "Epoch 1/5\n",
            "215/215 [==============================] - 3s 5ms/step - loss: 0.6104 - accuracy: 0.6980 - val_loss: 0.5348 - val_accuracy: 0.7520\n",
            "Epoch 2/5\n",
            "215/215 [==============================] - 1s 4ms/step - loss: 0.4416 - accuracy: 0.8193 - val_loss: 0.4718 - val_accuracy: 0.7848\n",
            "Epoch 3/5\n",
            "215/215 [==============================] - 1s 4ms/step - loss: 0.3473 - accuracy: 0.8603 - val_loss: 0.4577 - val_accuracy: 0.7861\n",
            "Epoch 4/5\n",
            "215/215 [==============================] - 1s 4ms/step - loss: 0.2849 - accuracy: 0.8911 - val_loss: 0.4661 - val_accuracy: 0.7848\n",
            "Epoch 5/5\n",
            "215/215 [==============================] - 1s 4ms/step - loss: 0.2375 - accuracy: 0.9115 - val_loss: 0.4770 - val_accuracy: 0.7835\n"
          ]
        }
      ]
    },
    {
      "cell_type": "code",
      "source": [
        "# Check the results\n",
        "model_1.evaluate(val_sentences, val_labels)"
      ],
      "metadata": {
        "colab": {
          "base_uri": "https://localhost:8080/"
        },
        "id": "ullUPVGFS6Z4",
        "outputId": "552b0167-1cc4-4067-f97c-b28f0ad6dea5"
      },
      "execution_count": 38,
      "outputs": [
        {
          "output_type": "stream",
          "name": "stdout",
          "text": [
            "24/24 [==============================] - 0s 3ms/step - loss: 0.4770 - accuracy: 0.7835\n"
          ]
        },
        {
          "output_type": "execute_result",
          "data": {
            "text/plain": [
              "[0.4770285189151764, 0.7834645509719849]"
            ]
          },
          "metadata": {},
          "execution_count": 38
        }
      ]
    },
    {
      "cell_type": "code",
      "source": [
        "# Make some predictions and evaluate \n",
        "model_1_pred_probs = model_1.predict(val_sentences)\n",
        "model_1_pred_probs[:10]"
      ],
      "metadata": {
        "colab": {
          "base_uri": "https://localhost:8080/"
        },
        "id": "Tdfah2aoU7Zs",
        "outputId": "e4d83a26-47bb-41ff-dec9-1370d49fc76f"
      },
      "execution_count": 39,
      "outputs": [
        {
          "output_type": "execute_result",
          "data": {
            "text/plain": [
              "array([[0.38255745],\n",
              "       [0.7791915 ],\n",
              "       [0.997422  ],\n",
              "       [0.12764242],\n",
              "       [0.12709261],\n",
              "       [0.9449638 ],\n",
              "       [0.9132703 ],\n",
              "       [0.989749  ],\n",
              "       [0.9671669 ],\n",
              "       [0.27514526]], dtype=float32)"
            ]
          },
          "metadata": {},
          "execution_count": 39
        }
      ]
    },
    {
      "cell_type": "code",
      "source": [
        "model_1_pred_probs.shape"
      ],
      "metadata": {
        "colab": {
          "base_uri": "https://localhost:8080/"
        },
        "id": "C4XnA5Q1W-Ho",
        "outputId": "86af9581-8b86-4f4c-e999-8c0b613a8823"
      },
      "execution_count": 40,
      "outputs": [
        {
          "output_type": "execute_result",
          "data": {
            "text/plain": [
              "(762, 1)"
            ]
          },
          "metadata": {},
          "execution_count": 40
        }
      ]
    },
    {
      "cell_type": "code",
      "source": [
        "val_labels[:10]"
      ],
      "metadata": {
        "colab": {
          "base_uri": "https://localhost:8080/"
        },
        "id": "ON9Eq1JgVI6e",
        "outputId": "1edf394c-7f63-4e38-ff06-40c1dc685511"
      },
      "execution_count": 41,
      "outputs": [
        {
          "output_type": "execute_result",
          "data": {
            "text/plain": [
              "array([0, 0, 1, 1, 1, 1, 1, 1, 1, 0])"
            ]
          },
          "metadata": {},
          "execution_count": 41
        }
      ]
    },
    {
      "cell_type": "code",
      "source": [
        "# To compare model_1_pred_probs and val_labels,\n",
        "# we need to convert model pred probabilities to label format (0, 1)\n",
        "model_1_preds = tf.squeeze(tf.round(model_1_pred_probs))"
      ],
      "metadata": {
        "id": "_dJ5jJRZWjNl"
      },
      "execution_count": 42,
      "outputs": []
    },
    {
      "cell_type": "code",
      "source": [
        "model_1_preds[:10]"
      ],
      "metadata": {
        "colab": {
          "base_uri": "https://localhost:8080/"
        },
        "id": "t8BIInzCXJ_a",
        "outputId": "00028cc0-b0e3-458d-845d-737e89448466"
      },
      "execution_count": 43,
      "outputs": [
        {
          "output_type": "execute_result",
          "data": {
            "text/plain": [
              "<tf.Tensor: shape=(10,), dtype=float32, numpy=array([0., 1., 1., 0., 0., 1., 1., 1., 1., 0.], dtype=float32)>"
            ]
          },
          "metadata": {},
          "execution_count": 43
        }
      ]
    },
    {
      "cell_type": "code",
      "source": [
        "# Calculate our model_1 results\n",
        "model_1_results = calculate_results(y_true=val_labels,\n",
        "                                    y_pred=model_1_preds)\n",
        "model_1_results"
      ],
      "metadata": {
        "colab": {
          "base_uri": "https://localhost:8080/"
        },
        "id": "FFlQqWq0XLoQ",
        "outputId": "ad839760-f0c0-49f6-a66a-a8c6abf3ce9c"
      },
      "execution_count": 44,
      "outputs": [
        {
          "output_type": "execute_result",
          "data": {
            "text/plain": [
              "{'accuracy': 78.34645669291339,\n",
              " 'f1': 0.7807800582578167,\n",
              " 'precision': 0.7872123378365872,\n",
              " 'recall': 0.7834645669291339}"
            ]
          },
          "metadata": {},
          "execution_count": 44
        }
      ]
    },
    {
      "cell_type": "code",
      "source": [
        "# Compare baseline results and model_1 results\n",
        "import numpy as np\n",
        "results_keys = list(model_1_results.keys())\n",
        "print('Model 1 results  VS  Baseline results')\n",
        "for i in range(len(model_1_results)):\n",
        "    print(model_1_results[results_keys[i]], 'VS', baseline_results[results_keys[i]])"
      ],
      "metadata": {
        "colab": {
          "base_uri": "https://localhost:8080/"
        },
        "id": "iJVWa4kmXVn5",
        "outputId": "3f6e3715-a4fc-4758-db00-986c3013d60e"
      },
      "execution_count": 45,
      "outputs": [
        {
          "output_type": "stream",
          "name": "stdout",
          "text": [
            "Model 1 results  VS  Baseline results\n",
            "78.34645669291339 VS 79.26509186351706\n",
            "0.7872123378365872 VS 0.8111390004213173\n",
            "0.7834645669291339 VS 0.7926509186351706\n",
            "0.7807800582578167 VS 0.7862189758049549\n"
          ]
        }
      ]
    },
    {
      "cell_type": "markdown",
      "source": [
        "# Model 2: LSTM"
      ],
      "metadata": {
        "id": "cAflpswGZPJV"
      }
    },
    {
      "cell_type": "markdown",
      "source": [
        "* Model structure:\n",
        "```\n",
        "Input (text) -> Tokenize -> Embedding -> Layers (RNNs/dense) -> Output (probability -> label)\n",
        "```"
      ],
      "metadata": {
        "id": "C_TVpR6LdiEm"
      }
    },
    {
      "cell_type": "code",
      "source": [
        "# Create an LSTM model\n",
        "from tensorflow.keras import layers\n",
        "inputs = layers.Input(shape=(1,), dtype='string')\n",
        "x = text_vectorizer(inputs)\n",
        "x = embedding(x)\n",
        "# print(x.shape)     # [batch, timestep (token), feature (vector)]\n",
        "# x = layers.LSTM(64, return_sequences=True)(x)\n",
        "# print(x.shape)\n",
        "x = layers.LSTM(64, activation='tanh')(x)\n",
        "# print(x.shape)\n",
        "# x = layers.Dense(64, activation='relu')(x)\n",
        "# print(x.shape)\n",
        "outputs = layers.Dense(1, activation='sigmoid')(x)\n",
        "# print(x.shape)\n",
        "model_2 = tf.keras.Model(inputs, outputs, name='model_2_LSTM')"
      ],
      "metadata": {
        "id": "Bz1I_jbkdhhJ"
      },
      "execution_count": 46,
      "outputs": []
    },
    {
      "cell_type": "code",
      "source": [
        "# Get a summary\n",
        "model_2.summary()"
      ],
      "metadata": {
        "colab": {
          "base_uri": "https://localhost:8080/"
        },
        "id": "xS2QFTHZeW9_",
        "outputId": "e8f4ea6d-1f5b-4614-cf0e-580093ce9021"
      },
      "execution_count": 47,
      "outputs": [
        {
          "output_type": "stream",
          "name": "stdout",
          "text": [
            "Model: \"model_2_LSTM\"\n",
            "_________________________________________________________________\n",
            " Layer (type)                Output Shape              Param #   \n",
            "=================================================================\n",
            " input_2 (InputLayer)        [(None, 1)]               0         \n",
            "                                                                 \n",
            " text_vectorization_1 (TextV  (None, 15)               0         \n",
            " ectorization)                                                   \n",
            "                                                                 \n",
            " embedding (Embedding)       (None, 15, 128)           1280000   \n",
            "                                                                 \n",
            " lstm (LSTM)                 (None, 64)                49408     \n",
            "                                                                 \n",
            " dense_1 (Dense)             (None, 1)                 65        \n",
            "                                                                 \n",
            "=================================================================\n",
            "Total params: 1,329,473\n",
            "Trainable params: 1,329,473\n",
            "Non-trainable params: 0\n",
            "_________________________________________________________________\n"
          ]
        }
      ]
    },
    {
      "cell_type": "code",
      "source": [
        "# Compile the model\n",
        "model_2.compile(loss='binary_crossentropy',\n",
        "                optimizer='Adam',\n",
        "                metrics=['accuracy'])"
      ],
      "metadata": {
        "id": "F72wf5Xmb4jY"
      },
      "execution_count": 48,
      "outputs": []
    },
    {
      "cell_type": "code",
      "source": [
        "# Fit the model\n",
        "model_2_history = model_2.fit(train_sentences,\n",
        "                              train_labels,\n",
        "                              epochs=10,\n",
        "                              validation_data = (val_sentences, val_labels),\n",
        "                              callbacks=[create_tensorboard_callback(SAVE_DIR,\n",
        "                                                                     'model_2_LSTM')])"
      ],
      "metadata": {
        "colab": {
          "base_uri": "https://localhost:8080/"
        },
        "id": "DZFrv21ghDw6",
        "outputId": "76a2ef8f-c64c-4dff-91f8-c39ec3a627c6"
      },
      "execution_count": 49,
      "outputs": [
        {
          "output_type": "stream",
          "name": "stdout",
          "text": [
            "Saving TensorBoard log files to: model_logs/model_2_LSTM/20220121-070154\n",
            "Epoch 1/10\n",
            "215/215 [==============================] - 5s 8ms/step - loss: 0.2228 - accuracy: 0.9221 - val_loss: 0.5283 - val_accuracy: 0.7835\n",
            "Epoch 2/10\n",
            "215/215 [==============================] - 1s 6ms/step - loss: 0.1576 - accuracy: 0.9422 - val_loss: 0.5225 - val_accuracy: 0.7848\n",
            "Epoch 3/10\n",
            "215/215 [==============================] - 1s 6ms/step - loss: 0.1291 - accuracy: 0.9527 - val_loss: 0.6856 - val_accuracy: 0.7848\n",
            "Epoch 4/10\n",
            "215/215 [==============================] - 1s 6ms/step - loss: 0.1077 - accuracy: 0.9602 - val_loss: 0.8409 - val_accuracy: 0.7874\n",
            "Epoch 5/10\n",
            "215/215 [==============================] - 1s 6ms/step - loss: 0.0832 - accuracy: 0.9667 - val_loss: 0.8949 - val_accuracy: 0.7756\n",
            "Epoch 6/10\n",
            "215/215 [==============================] - 1s 6ms/step - loss: 0.0660 - accuracy: 0.9720 - val_loss: 1.1264 - val_accuracy: 0.7743\n",
            "Epoch 7/10\n",
            "215/215 [==============================] - 1s 6ms/step - loss: 0.0570 - accuracy: 0.9730 - val_loss: 1.3105 - val_accuracy: 0.7808\n",
            "Epoch 8/10\n",
            "215/215 [==============================] - 1s 6ms/step - loss: 0.0537 - accuracy: 0.9761 - val_loss: 1.3348 - val_accuracy: 0.7743\n",
            "Epoch 9/10\n",
            "215/215 [==============================] - 1s 6ms/step - loss: 0.0491 - accuracy: 0.9771 - val_loss: 1.2343 - val_accuracy: 0.7795\n",
            "Epoch 10/10\n",
            "215/215 [==============================] - 1s 6ms/step - loss: 0.0474 - accuracy: 0.9787 - val_loss: 1.6161 - val_accuracy: 0.7730\n"
          ]
        }
      ]
    },
    {
      "cell_type": "code",
      "source": [
        "# Make predictions with LSTM model\n",
        "model_2_pred_probs = model_2.predict(val_sentences)\n",
        "model_2_pred_probs[:10]"
      ],
      "metadata": {
        "colab": {
          "base_uri": "https://localhost:8080/"
        },
        "id": "Ile37ukhitvI",
        "outputId": "3f38095a-0045-4cae-cc1b-16ff79c5e45f"
      },
      "execution_count": 50,
      "outputs": [
        {
          "output_type": "execute_result",
          "data": {
            "text/plain": [
              "array([[6.08063747e-05],\n",
              "       [7.96259344e-01],\n",
              "       [9.99954224e-01],\n",
              "       [1.53261023e-02],\n",
              "       [1.73971021e-05],\n",
              "       [9.99712288e-01],\n",
              "       [1.13245785e-01],\n",
              "       [9.99965549e-01],\n",
              "       [9.99955416e-01],\n",
              "       [4.94748533e-01]], dtype=float32)"
            ]
          },
          "metadata": {},
          "execution_count": 50
        }
      ]
    },
    {
      "cell_type": "code",
      "source": [
        "model_2_pred_probs.shape"
      ],
      "metadata": {
        "colab": {
          "base_uri": "https://localhost:8080/"
        },
        "id": "1TLOnCykjNJ9",
        "outputId": "dd66b0fa-dd5d-4ee0-b544-281cb7aa5285"
      },
      "execution_count": 51,
      "outputs": [
        {
          "output_type": "execute_result",
          "data": {
            "text/plain": [
              "(762, 1)"
            ]
          },
          "metadata": {},
          "execution_count": 51
        }
      ]
    },
    {
      "cell_type": "code",
      "source": [
        "# Convert model 2 pred probs to labels\n",
        "model_2_preds = tf.squeeze(tf.round(model_2_pred_probs))\n",
        "model_2_preds[:10]"
      ],
      "metadata": {
        "colab": {
          "base_uri": "https://localhost:8080/"
        },
        "id": "vmxkr-pYjJ-m",
        "outputId": "a7c5bc9d-62e0-49e6-ed6e-bde1e631d816"
      },
      "execution_count": 52,
      "outputs": [
        {
          "output_type": "execute_result",
          "data": {
            "text/plain": [
              "<tf.Tensor: shape=(10,), dtype=float32, numpy=array([0., 1., 1., 0., 0., 1., 0., 1., 1., 0.], dtype=float32)>"
            ]
          },
          "metadata": {},
          "execution_count": 52
        }
      ]
    },
    {
      "cell_type": "code",
      "source": [
        "val_labels[:10]"
      ],
      "metadata": {
        "colab": {
          "base_uri": "https://localhost:8080/"
        },
        "id": "4mNEHXepjV8G",
        "outputId": "045f23bd-6238-48d5-df4f-c7db526c3d73"
      },
      "execution_count": 53,
      "outputs": [
        {
          "output_type": "execute_result",
          "data": {
            "text/plain": [
              "array([0, 0, 1, 1, 1, 1, 1, 1, 1, 0])"
            ]
          },
          "metadata": {},
          "execution_count": 53
        }
      ]
    },
    {
      "cell_type": "code",
      "source": [
        "model_2_results = calculate_results(y_true=val_labels,\n",
        "                                    y_pred=model_2_preds)\n",
        "model_2_results"
      ],
      "metadata": {
        "colab": {
          "base_uri": "https://localhost:8080/"
        },
        "id": "WFYn1TzQjYsi",
        "outputId": "c4a854bd-7f4e-4fd8-e192-aecab46a9cba"
      },
      "execution_count": 54,
      "outputs": [
        {
          "output_type": "execute_result",
          "data": {
            "text/plain": [
              "{'accuracy': 77.29658792650919,\n",
              " 'f1': 0.7685033747739557,\n",
              " 'precision': 0.7807932741995605,\n",
              " 'recall': 0.7729658792650919}"
            ]
          },
          "metadata": {},
          "execution_count": 54
        }
      ]
    },
    {
      "cell_type": "code",
      "source": [
        "# What happens if we add one more LSTM layer?\n",
        "\n",
        "inputs = layers.Input(shape=(1,), dtype='string')\n",
        "x = text_vectorizer(inputs)\n",
        "x = embedding(x)\n",
        "x = layers.LSTM(64, return_sequences=True)(x)\n",
        "x = layers.LSTM(64)(x)\n",
        "outputs = layers.Dense(1, activation='sigmoid')(x)\n",
        "model_2_edit = tf.keras.Model(inputs, outputs, name='model_2_edit_LSTM')\n",
        "\n",
        "print(model_2_edit.summary())\n",
        "\n",
        "model_2_edit.compile(loss='binary_crossentropy',\n",
        "                optimizer='Adam',\n",
        "                metrics=['accuracy'])\n",
        "\n",
        "model_2_edit_history = model_2_edit.fit(train_sentences,\n",
        "                              train_labels,\n",
        "                              epochs=5,\n",
        "                              validation_data = (val_sentences, val_labels),\n",
        "                              callbacks=[create_tensorboard_callback(SAVE_DIR,\n",
        "                                                                     'model_2_edit_LSTM')])"
      ],
      "metadata": {
        "colab": {
          "base_uri": "https://localhost:8080/"
        },
        "id": "zHwIEVaRhU6L",
        "outputId": "cd6bc731-eb94-4c15-e7b2-391251989403"
      },
      "execution_count": 55,
      "outputs": [
        {
          "output_type": "stream",
          "name": "stdout",
          "text": [
            "Model: \"model_2_edit_LSTM\"\n",
            "_________________________________________________________________\n",
            " Layer (type)                Output Shape              Param #   \n",
            "=================================================================\n",
            " input_3 (InputLayer)        [(None, 1)]               0         \n",
            "                                                                 \n",
            " text_vectorization_1 (TextV  (None, 15)               0         \n",
            " ectorization)                                                   \n",
            "                                                                 \n",
            " embedding (Embedding)       (None, 15, 128)           1280000   \n",
            "                                                                 \n",
            " lstm_1 (LSTM)               (None, 15, 64)            49408     \n",
            "                                                                 \n",
            " lstm_2 (LSTM)               (None, 64)                33024     \n",
            "                                                                 \n",
            " dense_2 (Dense)             (None, 1)                 65        \n",
            "                                                                 \n",
            "=================================================================\n",
            "Total params: 1,362,497\n",
            "Trainable params: 1,362,497\n",
            "Non-trainable params: 0\n",
            "_________________________________________________________________\n",
            "None\n",
            "Saving TensorBoard log files to: model_logs/model_2_edit_LSTM/20220121-070212\n",
            "Epoch 1/5\n",
            "215/215 [==============================] - 5s 12ms/step - loss: 0.1226 - accuracy: 0.9587 - val_loss: 1.2038 - val_accuracy: 0.7677\n",
            "Epoch 2/5\n",
            "215/215 [==============================] - 2s 7ms/step - loss: 0.0493 - accuracy: 0.9781 - val_loss: 1.2343 - val_accuracy: 0.7703\n",
            "Epoch 3/5\n",
            "215/215 [==============================] - 2s 7ms/step - loss: 0.0475 - accuracy: 0.9781 - val_loss: 1.5964 - val_accuracy: 0.7730\n",
            "Epoch 4/5\n",
            "215/215 [==============================] - 2s 8ms/step - loss: 0.0432 - accuracy: 0.9803 - val_loss: 1.3592 - val_accuracy: 0.7717\n",
            "Epoch 5/5\n",
            "215/215 [==============================] - 2s 7ms/step - loss: 0.0430 - accuracy: 0.9801 - val_loss: 1.4401 - val_accuracy: 0.7730\n"
          ]
        }
      ]
    },
    {
      "cell_type": "code",
      "source": [
        "model_2_edit_pred_probs = model_2_edit.predict(val_sentences)\n",
        "\n",
        "model_2_edit_preds = tf.squeeze(tf.round(model_2_edit_pred_probs))\n",
        "\n",
        "model_2_edit_results = calculate_results(y_true=val_labels,\n",
        "                                    y_pred=model_2_edit_preds)\n",
        "model_2_edit_results"
      ],
      "metadata": {
        "colab": {
          "base_uri": "https://localhost:8080/"
        },
        "id": "p2sMGu2bhvn-",
        "outputId": "56517c4b-709f-43aa-e509-c902b54c092f"
      },
      "execution_count": 56,
      "outputs": [
        {
          "output_type": "execute_result",
          "data": {
            "text/plain": [
              "{'accuracy': 77.29658792650919,\n",
              " 'f1': 0.7708425630155245,\n",
              " 'precision': 0.7747736761679446,\n",
              " 'recall': 0.7729658792650919}"
            ]
          },
          "metadata": {},
          "execution_count": 56
        }
      ]
    },
    {
      "cell_type": "markdown",
      "source": [
        "# Model 3: GRU"
      ],
      "metadata": {
        "id": "ElqZfHuGlUta"
      }
    },
    {
      "cell_type": "code",
      "source": [
        "# Build an RNN using the GRU cell\n",
        "from tensorflow.keras import layers\n",
        "inputs = layers.Input(shape=(1,), dtype=tf.string)\n",
        "x = text_vectorizer(inputs)\n",
        "x = embedding(x)\n",
        "x = layers.GRU(64, return_sequences=True)(x)\n",
        "# If you want to stack recurrent layers on top of each other, you need return_sequences = True\n",
        "# x = layers.LSTM(64, return_sequences=True)(x)\n",
        "x = layers.GlobalAveragePooling1D()(x)\n",
        "x = layers.Dense(64, activation='relu')(x)\n",
        "outputs = layers.Dense(1, activation='sigmoid')(x)\n",
        "model_3 = tf.keras.Model(inputs, outputs, name='model_3_GRU')"
      ],
      "metadata": {
        "id": "pcpqcwBij5tr"
      },
      "execution_count": 57,
      "outputs": []
    },
    {
      "cell_type": "code",
      "source": [
        "# Get a summary\n",
        "model_3.summary()"
      ],
      "metadata": {
        "colab": {
          "base_uri": "https://localhost:8080/"
        },
        "id": "u3YzOcX4hM4s",
        "outputId": "2cf197a2-26ef-4670-d7d3-6ce5f6c9ec9e"
      },
      "execution_count": 58,
      "outputs": [
        {
          "output_type": "stream",
          "name": "stdout",
          "text": [
            "Model: \"model_3_GRU\"\n",
            "_________________________________________________________________\n",
            " Layer (type)                Output Shape              Param #   \n",
            "=================================================================\n",
            " input_4 (InputLayer)        [(None, 1)]               0         \n",
            "                                                                 \n",
            " text_vectorization_1 (TextV  (None, 15)               0         \n",
            " ectorization)                                                   \n",
            "                                                                 \n",
            " embedding (Embedding)       (None, 15, 128)           1280000   \n",
            "                                                                 \n",
            " gru (GRU)                   (None, 15, 64)            37248     \n",
            "                                                                 \n",
            " global_average_pooling1d_1   (None, 64)               0         \n",
            " (GlobalAveragePooling1D)                                        \n",
            "                                                                 \n",
            " dense_3 (Dense)             (None, 64)                4160      \n",
            "                                                                 \n",
            " dense_4 (Dense)             (None, 1)                 65        \n",
            "                                                                 \n",
            "=================================================================\n",
            "Total params: 1,321,473\n",
            "Trainable params: 1,321,473\n",
            "Non-trainable params: 0\n",
            "_________________________________________________________________\n"
          ]
        }
      ]
    },
    {
      "cell_type": "code",
      "source": [
        "# Compile the model\n",
        "model_3.compile(loss='binary_crossentropy',\n",
        "                optimizer='Adam',\n",
        "                metrics=['acc'])"
      ],
      "metadata": {
        "id": "GyNKlo2Yk7VI"
      },
      "execution_count": 59,
      "outputs": []
    },
    {
      "cell_type": "code",
      "source": [
        "# Fit the model\n",
        "model_3_history = model_3.fit(train_sentences,\n",
        "                              train_labels,\n",
        "                              epochs=5,\n",
        "                              validation_data=(val_sentences, val_labels),\n",
        "                              callbacks=[create_tensorboard_callback(SAVE_DIR,\n",
        "                                                                     'model_3_GRU')])"
      ],
      "metadata": {
        "colab": {
          "base_uri": "https://localhost:8080/"
        },
        "id": "1Xr8Q2TQmTf7",
        "outputId": "44abc68b-a17a-449d-a4e6-45e7d50b5646"
      },
      "execution_count": 60,
      "outputs": [
        {
          "output_type": "stream",
          "name": "stdout",
          "text": [
            "Saving TensorBoard log files to: model_logs/model_3_GRU/20220121-070224\n",
            "Epoch 1/5\n",
            "215/215 [==============================] - 3s 8ms/step - loss: 0.1385 - acc: 0.9648 - val_loss: 0.8617 - val_acc: 0.7651\n",
            "Epoch 2/5\n",
            "215/215 [==============================] - 1s 6ms/step - loss: 0.0517 - acc: 0.9749 - val_loss: 1.2090 - val_acc: 0.7703\n",
            "Epoch 3/5\n",
            "215/215 [==============================] - 1s 6ms/step - loss: 0.0428 - acc: 0.9791 - val_loss: 1.6857 - val_acc: 0.7625\n",
            "Epoch 4/5\n",
            "215/215 [==============================] - 1s 6ms/step - loss: 0.0441 - acc: 0.9772 - val_loss: 1.7110 - val_acc: 0.7572\n",
            "Epoch 5/5\n",
            "215/215 [==============================] - 1s 6ms/step - loss: 0.0413 - acc: 0.9791 - val_loss: 1.6642 - val_acc: 0.7638\n"
          ]
        }
      ]
    },
    {
      "cell_type": "code",
      "source": [
        "model_3_pred_probs = model_3.predict(val_sentences)\n",
        "model_3_pred_probs[:10]"
      ],
      "metadata": {
        "colab": {
          "base_uri": "https://localhost:8080/"
        },
        "id": "Hk10Lmv-ml05",
        "outputId": "2638e569-c057-4a7c-d675-224b55160a9f"
      },
      "execution_count": 61,
      "outputs": [
        {
          "output_type": "execute_result",
          "data": {
            "text/plain": [
              "array([[4.0842231e-02],\n",
              "       [4.5713130e-01],\n",
              "       [9.9999464e-01],\n",
              "       [2.4084203e-02],\n",
              "       [5.5966899e-07],\n",
              "       [9.9992943e-01],\n",
              "       [9.8928958e-01],\n",
              "       [9.9999988e-01],\n",
              "       [9.9999988e-01],\n",
              "       [8.8836044e-01]], dtype=float32)"
            ]
          },
          "metadata": {},
          "execution_count": 61
        }
      ]
    },
    {
      "cell_type": "code",
      "source": [
        "# Convert model 3 pred probs to labels\n",
        "model_3_preds = tf.squeeze(tf.round(model_3_pred_probs))\n",
        "model_3_preds[:10]"
      ],
      "metadata": {
        "colab": {
          "base_uri": "https://localhost:8080/"
        },
        "id": "AbTcQGu3mwgn",
        "outputId": "37f3a804-96f1-4315-8e73-becdf39f5e72"
      },
      "execution_count": 62,
      "outputs": [
        {
          "output_type": "execute_result",
          "data": {
            "text/plain": [
              "<tf.Tensor: shape=(10,), dtype=float32, numpy=array([0., 0., 1., 0., 0., 1., 1., 1., 1., 1.], dtype=float32)>"
            ]
          },
          "metadata": {},
          "execution_count": 62
        }
      ]
    },
    {
      "cell_type": "code",
      "source": [
        "# Calculate model 3 results\n",
        "model_3_results = calculate_results(y_true=val_labels,\n",
        "                                    y_pred=model_3_preds)\n",
        "model_3_results"
      ],
      "metadata": {
        "colab": {
          "base_uri": "https://localhost:8080/"
        },
        "id": "9DARp7fpnCkp",
        "outputId": "ed8173e0-85f9-4165-a791-5bcf8cf151c1"
      },
      "execution_count": 63,
      "outputs": [
        {
          "output_type": "execute_result",
          "data": {
            "text/plain": [
              "{'accuracy': 76.37795275590551,\n",
              " 'f1': 0.7613639638656104,\n",
              " 'precision': 0.765729922717656,\n",
              " 'recall': 0.7637795275590551}"
            ]
          },
          "metadata": {},
          "execution_count": 63
        }
      ]
    },
    {
      "cell_type": "markdown",
      "source": [
        "# Model 4: Bidirectional RNN\n"
      ],
      "metadata": {
        "id": "6vgbpYSDnS8D"
      }
    },
    {
      "cell_type": "code",
      "source": [
        "# Build a bidirectional RNN in Tensorflow\n",
        "from tensorflow.keras import layers\n",
        "inputs = layers.Input(shape=(1,), dtype=tf.string)\n",
        "x = text_vectorizer(inputs)\n",
        "x = embedding(x)\n",
        "x = layers.Bidirectional(layers.LSTM(64, return_sequences=True))(x)\n",
        "x = layers.Bidirectional(layers.GRU(64))(x)\n",
        "outputs = layers.Dense(1, activation='sigmoid')(x)\n",
        "model_4 = tf.keras.Model(inputs, outputs, name='model_4_bidirectional')"
      ],
      "metadata": {
        "id": "BReepHr9nKQT"
      },
      "execution_count": 64,
      "outputs": []
    },
    {
      "cell_type": "code",
      "source": [
        "model_4.summary()"
      ],
      "metadata": {
        "colab": {
          "base_uri": "https://localhost:8080/"
        },
        "id": "HrgN4LeNpfXC",
        "outputId": "65fb0d1b-5036-4980-84f6-e13236f9a7d6"
      },
      "execution_count": 65,
      "outputs": [
        {
          "output_type": "stream",
          "name": "stdout",
          "text": [
            "Model: \"model_4_bidirectional\"\n",
            "_________________________________________________________________\n",
            " Layer (type)                Output Shape              Param #   \n",
            "=================================================================\n",
            " input_5 (InputLayer)        [(None, 1)]               0         \n",
            "                                                                 \n",
            " text_vectorization_1 (TextV  (None, 15)               0         \n",
            " ectorization)                                                   \n",
            "                                                                 \n",
            " embedding (Embedding)       (None, 15, 128)           1280000   \n",
            "                                                                 \n",
            " bidirectional (Bidirectiona  (None, 15, 128)          98816     \n",
            " l)                                                              \n",
            "                                                                 \n",
            " bidirectional_1 (Bidirectio  (None, 128)              74496     \n",
            " nal)                                                            \n",
            "                                                                 \n",
            " dense_5 (Dense)             (None, 1)                 129       \n",
            "                                                                 \n",
            "=================================================================\n",
            "Total params: 1,453,441\n",
            "Trainable params: 1,453,441\n",
            "Non-trainable params: 0\n",
            "_________________________________________________________________\n"
          ]
        }
      ]
    },
    {
      "cell_type": "code",
      "source": [
        "# Compile the model\n",
        "model_4.compile(loss='binary_crossentropy',\n",
        "                optimizer='Adam',\n",
        "                metrics=['acc'])"
      ],
      "metadata": {
        "id": "i33RWutZpolM"
      },
      "execution_count": 66,
      "outputs": []
    },
    {
      "cell_type": "code",
      "source": [
        "# Fit the model\n",
        "model_4_history = model_4.fit(train_sentences,\n",
        "                              train_labels,\n",
        "                              epochs=5,\n",
        "                              validation_data=(val_sentences, val_labels),\n",
        "                              callbacks=[create_tensorboard_callback(SAVE_DIR,\n",
        "                                                                     'model_4_bidirectional')])"
      ],
      "metadata": {
        "colab": {
          "base_uri": "https://localhost:8080/"
        },
        "id": "rj6VOI39qnA9",
        "outputId": "6755cb9b-078e-42cd-e321-a81a19f3fb06"
      },
      "execution_count": 67,
      "outputs": [
        {
          "output_type": "stream",
          "name": "stdout",
          "text": [
            "Saving TensorBoard log files to: model_logs/model_4_bidirectional/20220121-070238\n",
            "Epoch 1/5\n",
            "215/215 [==============================] - 9s 17ms/step - loss: 0.0950 - acc: 0.9705 - val_loss: 1.2063 - val_acc: 0.7664\n",
            "Epoch 2/5\n",
            "215/215 [==============================] - 2s 11ms/step - loss: 0.0446 - acc: 0.9781 - val_loss: 1.2378 - val_acc: 0.7638\n",
            "Epoch 3/5\n",
            "215/215 [==============================] - 2s 11ms/step - loss: 0.0366 - acc: 0.9797 - val_loss: 1.4427 - val_acc: 0.7717\n",
            "Epoch 4/5\n",
            "215/215 [==============================] - 2s 11ms/step - loss: 0.0397 - acc: 0.9801 - val_loss: 1.3924 - val_acc: 0.7677\n",
            "Epoch 5/5\n",
            "215/215 [==============================] - 2s 11ms/step - loss: 0.0372 - acc: 0.9794 - val_loss: 1.5550 - val_acc: 0.7664\n"
          ]
        }
      ]
    },
    {
      "cell_type": "code",
      "source": [
        "# Make predictions with bidirectional model\n",
        "model_4_pred_probs = model_4.predict(val_sentences)\n",
        "model_4_pred_probs[:5]"
      ],
      "metadata": {
        "colab": {
          "base_uri": "https://localhost:8080/"
        },
        "id": "NZHbxIg5q-N9",
        "outputId": "46cf0cb2-b7ed-4c10-e86a-ce7bfcc8fb6a"
      },
      "execution_count": 68,
      "outputs": [
        {
          "output_type": "execute_result",
          "data": {
            "text/plain": [
              "array([[6.6785499e-02],\n",
              "       [6.7236370e-01],\n",
              "       [9.9995196e-01],\n",
              "       [4.0042853e-01],\n",
              "       [2.6050498e-05]], dtype=float32)"
            ]
          },
          "metadata": {},
          "execution_count": 68
        }
      ]
    },
    {
      "cell_type": "code",
      "source": [
        "# Convert pred probs to pred labels\n",
        "model_4_preds = tf.squeeze(tf.round(model_4_pred_probs))\n",
        "model_4_preds[:5]"
      ],
      "metadata": {
        "colab": {
          "base_uri": "https://localhost:8080/"
        },
        "id": "nkFx9NImrO2p",
        "outputId": "9f0c8fa9-3350-4a44-bc4b-44cb2712ab9a"
      },
      "execution_count": 69,
      "outputs": [
        {
          "output_type": "execute_result",
          "data": {
            "text/plain": [
              "<tf.Tensor: shape=(5,), dtype=float32, numpy=array([0., 1., 1., 0., 0.], dtype=float32)>"
            ]
          },
          "metadata": {},
          "execution_count": 69
        }
      ]
    },
    {
      "cell_type": "code",
      "source": [
        "# Calculate the results of our bidirectional model\n",
        "model_4_results = calculate_results(y_true=val_labels,\n",
        "                                    y_pred=model_4_preds)\n",
        "model_4_results"
      ],
      "metadata": {
        "colab": {
          "base_uri": "https://localhost:8080/"
        },
        "id": "MagZJ7Gprban",
        "outputId": "610d9876-7d5c-4475-d85a-f9ef91292053"
      },
      "execution_count": 70,
      "outputs": [
        {
          "output_type": "execute_result",
          "data": {
            "text/plain": [
              "{'accuracy': 76.64041994750657,\n",
              " 'f1': 0.765614809581862,\n",
              " 'precision': 0.7661181993158156,\n",
              " 'recall': 0.7664041994750657}"
            ]
          },
          "metadata": {},
          "execution_count": 70
        }
      ]
    },
    {
      "cell_type": "code",
      "source": [
        "# Compare model 3 and model 4 results\n",
        "import numpy as np\n",
        "results_keys = list(model_3_results.keys())\n",
        "print('Model 3 results  VS  Model 4 results')\n",
        "for i in range(len(model_3_results)):\n",
        "    print(model_3_results[results_keys[i]], 'VS', model_4_results[results_keys[i]])"
      ],
      "metadata": {
        "colab": {
          "base_uri": "https://localhost:8080/"
        },
        "id": "sKqQpgN3rkfM",
        "outputId": "9666cb5a-78fe-490b-f2dd-a55759b5800c"
      },
      "execution_count": 71,
      "outputs": [
        {
          "output_type": "stream",
          "name": "stdout",
          "text": [
            "Model 3 results  VS  Model 4 results\n",
            "76.37795275590551 VS 76.64041994750657\n",
            "0.765729922717656 VS 0.7661181993158156\n",
            "0.7637795275590551 VS 0.7664041994750657\n",
            "0.7613639638656104 VS 0.765614809581862\n"
          ]
        }
      ]
    },
    {
      "cell_type": "markdown",
      "source": [
        "# Model 5: Conv1D"
      ],
      "metadata": {
        "id": "ct_AT1NlsbQ-"
      }
    },
    {
      "cell_type": "code",
      "source": [
        "# Create 1D convolutional layer\n",
        "from tensorflow.keras import layers\n",
        "inputs = layers.Input(shape=(1,), dtype='string')\n",
        "x = text_vectorizer(inputs)\n",
        "x = embedding(x)\n",
        "x = layers.Conv1D(filters=64, \n",
        "                  kernel_size=5,     # n-grams\n",
        "                  activation='relu',\n",
        "                  padding='same')(x)\n",
        "x = layers.GlobalMaxPool1D()(x)\n",
        "outputs = layers.Dense(1, activation='sigmoid')(x)\n",
        "model_5 = tf.keras.Model(inputs, outputs, name='model_5_Conv1D')\n",
        "\n",
        "# Compile Conv1D\n",
        "model_5.compile(loss='binary_crossentropy',\n",
        "                optimizer='Adam',\n",
        "                metrics=['acc'])\n",
        "\n",
        "# Get a summary \n",
        "model_5.summary()"
      ],
      "metadata": {
        "colab": {
          "base_uri": "https://localhost:8080/"
        },
        "id": "0_sPXKOXr2UH",
        "outputId": "72346c1c-5bd0-48f9-8779-7ec23bb9d324"
      },
      "execution_count": 72,
      "outputs": [
        {
          "output_type": "stream",
          "name": "stdout",
          "text": [
            "Model: \"model_5_Conv1D\"\n",
            "_________________________________________________________________\n",
            " Layer (type)                Output Shape              Param #   \n",
            "=================================================================\n",
            " input_6 (InputLayer)        [(None, 1)]               0         \n",
            "                                                                 \n",
            " text_vectorization_1 (TextV  (None, 15)               0         \n",
            " ectorization)                                                   \n",
            "                                                                 \n",
            " embedding (Embedding)       (None, 15, 128)           1280000   \n",
            "                                                                 \n",
            " conv1d (Conv1D)             (None, 15, 64)            41024     \n",
            "                                                                 \n",
            " global_max_pooling1d (Globa  (None, 64)               0         \n",
            " lMaxPooling1D)                                                  \n",
            "                                                                 \n",
            " dense_6 (Dense)             (None, 1)                 65        \n",
            "                                                                 \n",
            "=================================================================\n",
            "Total params: 1,321,089\n",
            "Trainable params: 1,321,089\n",
            "Non-trainable params: 0\n",
            "_________________________________________________________________\n"
          ]
        }
      ]
    },
    {
      "cell_type": "code",
      "source": [
        "# Fit the model\n",
        "model_5_history = model_5.fit(train_sentences,\n",
        "                              train_labels,\n",
        "                              epochs=5,\n",
        "                              validation_data=(val_sentences, val_labels),\n",
        "                              callbacks=[create_tensorboard_callback(SAVE_DIR,\n",
        "                                                                     'model_5_conv1d')])"
      ],
      "metadata": {
        "colab": {
          "base_uri": "https://localhost:8080/"
        },
        "id": "Ex0eyDVj2eOf",
        "outputId": "102d39c4-bb0b-4cd0-b5aa-67be546c7ff6"
      },
      "execution_count": 73,
      "outputs": [
        {
          "output_type": "stream",
          "name": "stdout",
          "text": [
            "Saving TensorBoard log files to: model_logs/model_5_conv1d/20220121-070304\n",
            "Epoch 1/5\n",
            "215/215 [==============================] - 8s 6ms/step - loss: 0.1182 - acc: 0.9658 - val_loss: 0.8927 - val_acc: 0.7769\n",
            "Epoch 2/5\n",
            "215/215 [==============================] - 1s 5ms/step - loss: 0.0687 - acc: 0.9752 - val_loss: 1.0013 - val_acc: 0.7743\n",
            "Epoch 3/5\n",
            "215/215 [==============================] - 1s 5ms/step - loss: 0.0563 - acc: 0.9784 - val_loss: 1.0974 - val_acc: 0.7690\n",
            "Epoch 4/5\n",
            "215/215 [==============================] - 1s 5ms/step - loss: 0.0522 - acc: 0.9780 - val_loss: 1.1598 - val_acc: 0.7703\n",
            "Epoch 5/5\n",
            "215/215 [==============================] - 1s 5ms/step - loss: 0.0478 - acc: 0.9796 - val_loss: 1.1539 - val_acc: 0.7598\n"
          ]
        }
      ]
    },
    {
      "cell_type": "code",
      "source": [
        "# Make some predictions with our Conv1D model\n",
        "model_5_pred_probs = model_5.predict(val_sentences)\n",
        "model_5_pred_probs[:10]"
      ],
      "metadata": {
        "colab": {
          "base_uri": "https://localhost:8080/"
        },
        "id": "xe59hMlK3KYE",
        "outputId": "7ae79fe1-ad58-41a8-fe9e-256dd943e3a4"
      },
      "execution_count": 74,
      "outputs": [
        {
          "output_type": "execute_result",
          "data": {
            "text/plain": [
              "array([[1.7024383e-01],\n",
              "       [9.0627235e-01],\n",
              "       [9.9999142e-01],\n",
              "       [3.9481189e-02],\n",
              "       [3.2741926e-07],\n",
              "       [9.9830997e-01],\n",
              "       [8.9482963e-01],\n",
              "       [9.9999881e-01],\n",
              "       [1.0000000e+00],\n",
              "       [9.5769954e-01]], dtype=float32)"
            ]
          },
          "metadata": {},
          "execution_count": 74
        }
      ]
    },
    {
      "cell_type": "code",
      "source": [
        "# Convert model 5 pred probs to labels\n",
        "model_5_preds = tf.squeeze(tf.round(model_5_pred_probs))\n",
        "model_5_preds[:10]"
      ],
      "metadata": {
        "colab": {
          "base_uri": "https://localhost:8080/"
        },
        "id": "NPxVtoi53Xl2",
        "outputId": "fa55e517-918a-42ef-ff15-3a01bc6a3086"
      },
      "execution_count": 75,
      "outputs": [
        {
          "output_type": "execute_result",
          "data": {
            "text/plain": [
              "<tf.Tensor: shape=(10,), dtype=float32, numpy=array([0., 1., 1., 0., 0., 1., 1., 1., 1., 1.], dtype=float32)>"
            ]
          },
          "metadata": {},
          "execution_count": 75
        }
      ]
    },
    {
      "cell_type": "code",
      "source": [
        "# Evaluate model 5 predictions\n",
        "model_5_results = calculate_results(y_true=val_labels,\n",
        "                                    y_pred=model_5_preds)\n",
        "model_5_results"
      ],
      "metadata": {
        "colab": {
          "base_uri": "https://localhost:8080/"
        },
        "id": "JXBYn1hj3eJq",
        "outputId": "c72440b0-1942-44fc-8a60-d72b64ee54c7"
      },
      "execution_count": 76,
      "outputs": [
        {
          "output_type": "execute_result",
          "data": {
            "text/plain": [
              "{'accuracy': 75.98425196850394,\n",
              " 'f1': 0.7595606050018504,\n",
              " 'precision': 0.7594918880291538,\n",
              " 'recall': 0.7598425196850394}"
            ]
          },
          "metadata": {},
          "execution_count": 76
        }
      ]
    },
    {
      "cell_type": "markdown",
      "source": [
        "# Model 6: Transfer learning (Universal Sentence Encoder in Tensorflow Hub)"
      ],
      "metadata": {
        "id": "xBZyN_Cb3m9c"
      }
    },
    {
      "cell_type": "code",
      "source": [
        "import tensorflow_hub as hub\n",
        "embed = hub.load('https://tfhub.dev/google/universal-sentence-encoder/4')\n",
        "embed_samples = embed([sample_sentence])\n",
        "embed_samples.shape"
      ],
      "metadata": {
        "id": "KGvPIBqc3lia",
        "colab": {
          "base_uri": "https://localhost:8080/"
        },
        "outputId": "9fb25c87-282b-4b2a-84ea-6defaf95d5c9"
      },
      "execution_count": 77,
      "outputs": [
        {
          "output_type": "execute_result",
          "data": {
            "text/plain": [
              "TensorShape([1, 512])"
            ]
          },
          "metadata": {},
          "execution_count": 77
        }
      ]
    },
    {
      "cell_type": "code",
      "source": [
        "embed_samples[0][:50]"
      ],
      "metadata": {
        "colab": {
          "base_uri": "https://localhost:8080/"
        },
        "id": "cd4-_DmRSIrV",
        "outputId": "80c60ed4-4439-44a2-a1a7-b7af92488a47"
      },
      "execution_count": 78,
      "outputs": [
        {
          "output_type": "execute_result",
          "data": {
            "text/plain": [
              "<tf.Tensor: shape=(50,), dtype=float32, numpy=\n",
              "array([-0.01157024,  0.02485911,  0.02878048, -0.01271502,  0.0397154 ,\n",
              "        0.08827759,  0.02680984,  0.05589837, -0.01068729, -0.00597293,\n",
              "        0.00639323, -0.01819519,  0.00030816,  0.09105889,  0.05874645,\n",
              "       -0.03180628,  0.01512473, -0.05162928,  0.00991364, -0.06865346,\n",
              "       -0.04209306,  0.02678978,  0.03011007,  0.00321067, -0.00337968,\n",
              "       -0.04787357,  0.02266722, -0.00985927, -0.04063614, -0.01292094,\n",
              "       -0.04666385,  0.056303  , -0.03949257,  0.00517688,  0.02495825,\n",
              "       -0.07014439,  0.02871507,  0.04947682, -0.00633977, -0.08960193,\n",
              "        0.02807119, -0.00808361, -0.01360602,  0.05998649, -0.10361786,\n",
              "       -0.05195374,  0.00232955, -0.02332531, -0.03758105,  0.0332773 ],\n",
              "      dtype=float32)>"
            ]
          },
          "metadata": {},
          "execution_count": 78
        }
      ]
    },
    {
      "cell_type": "code",
      "source": [
        "# Create a Keras layer using the USE pretrained layer from tensorflow hub\n",
        "sentence_encoder_layer = hub.KerasLayer('https://tfhub.dev/google/universal-sentence-encoder/4',\n",
        "                                        input_shape=[],     # here, input can be variable length\n",
        "                                        dtype='string',\n",
        "                                        trainable=False,\n",
        "                                        name='USE')   "
      ],
      "metadata": {
        "id": "snIK7Wl2SyqZ"
      },
      "execution_count": 79,
      "outputs": []
    },
    {
      "cell_type": "code",
      "source": [
        "# Create model using the Sequential API\n",
        "model_6 = tf.keras.Sequential([\n",
        "    sentence_encoder_layer,\n",
        "    layers.Dense(1, activation='sigmoid')\n",
        "], name = 'model_6_USE')\n",
        "\n",
        "# Compile the model\n",
        "model_6.compile(loss='binary_crossentropy',\n",
        "                optimizer='Adam',\n",
        "                metrics=['acc'])\n",
        "\n",
        "# Get a summary\n",
        "model_6.summary()"
      ],
      "metadata": {
        "colab": {
          "base_uri": "https://localhost:8080/"
        },
        "id": "3vGgch63VBXV",
        "outputId": "ec7602f5-3e7b-46f1-e7a7-35ad611b6ef8"
      },
      "execution_count": 80,
      "outputs": [
        {
          "output_type": "stream",
          "name": "stdout",
          "text": [
            "Model: \"model_6_USE\"\n",
            "_________________________________________________________________\n",
            " Layer (type)                Output Shape              Param #   \n",
            "=================================================================\n",
            " USE (KerasLayer)            (None, 512)               256797824 \n",
            "                                                                 \n",
            " dense_7 (Dense)             (None, 1)                 513       \n",
            "                                                                 \n",
            "=================================================================\n",
            "Total params: 256,798,337\n",
            "Trainable params: 513\n",
            "Non-trainable params: 256,797,824\n",
            "_________________________________________________________________\n"
          ]
        }
      ]
    },
    {
      "cell_type": "code",
      "source": [
        "# Train a classifier on top of USE pretrained embeddings\n",
        "model_6_history = model_6.fit(train_sentences,\n",
        "                              train_labels,\n",
        "                              epochs=5,\n",
        "                              validation_data=(val_sentences, val_labels),\n",
        "                              callbacks=[create_tensorboard_callback(SAVE_DIR,\n",
        "                                                                     'tf_hub_sentence_encoder')])"
      ],
      "metadata": {
        "colab": {
          "base_uri": "https://localhost:8080/"
        },
        "id": "oJmL3IiGVl-1",
        "outputId": "bf5f3e46-67fe-45d1-ed94-6a17f83e1dc9"
      },
      "execution_count": 81,
      "outputs": [
        {
          "output_type": "stream",
          "name": "stdout",
          "text": [
            "Saving TensorBoard log files to: model_logs/tf_hub_sentence_encoder/20220121-070344\n",
            "Epoch 1/5\n",
            "215/215 [==============================] - 5s 12ms/step - loss: 0.6471 - acc: 0.7346 - val_loss: 0.6113 - val_acc: 0.7756\n",
            "Epoch 2/5\n",
            "215/215 [==============================] - 2s 11ms/step - loss: 0.5807 - acc: 0.7882 - val_loss: 0.5623 - val_acc: 0.7808\n",
            "Epoch 3/5\n",
            "215/215 [==============================] - 2s 11ms/step - loss: 0.5384 - acc: 0.7951 - val_loss: 0.5310 - val_acc: 0.7874\n",
            "Epoch 4/5\n",
            "215/215 [==============================] - 2s 11ms/step - loss: 0.5100 - acc: 0.7973 - val_loss: 0.5104 - val_acc: 0.7900\n",
            "Epoch 5/5\n",
            "215/215 [==============================] - 2s 11ms/step - loss: 0.4899 - acc: 0.8011 - val_loss: 0.4958 - val_acc: 0.7887\n"
          ]
        }
      ]
    },
    {
      "cell_type": "code",
      "source": [
        "# Make predictions with USE TF HUB model\n",
        "model_6_pred_probs = model_6.predict(val_sentences)\n",
        "model_6_pred_probs[:10]"
      ],
      "metadata": {
        "colab": {
          "base_uri": "https://localhost:8080/"
        },
        "id": "z279cej6WHpp",
        "outputId": "00478e3d-b38a-476e-afb2-ebbe565d46ec"
      },
      "execution_count": 82,
      "outputs": [
        {
          "output_type": "execute_result",
          "data": {
            "text/plain": [
              "array([[0.359222  ],\n",
              "       [0.67522293],\n",
              "       [0.84790856],\n",
              "       [0.35192752],\n",
              "       [0.63762784],\n",
              "       [0.73570645],\n",
              "       [0.82078826],\n",
              "       [0.85319847],\n",
              "       [0.73663294],\n",
              "       [0.20087844]], dtype=float32)"
            ]
          },
          "metadata": {},
          "execution_count": 82
        }
      ]
    },
    {
      "cell_type": "code",
      "source": [
        "# Convert prediction probabilities to labels\n",
        "model_6_preds = tf.squeeze(tf.round(model_6_pred_probs))\n",
        "model_6_preds[:10]"
      ],
      "metadata": {
        "colab": {
          "base_uri": "https://localhost:8080/"
        },
        "id": "aBf7sJTbWXvO",
        "outputId": "a56d9504-511d-4ccd-c590-88b09d03551c"
      },
      "execution_count": 83,
      "outputs": [
        {
          "output_type": "execute_result",
          "data": {
            "text/plain": [
              "<tf.Tensor: shape=(10,), dtype=float32, numpy=array([0., 1., 1., 0., 1., 1., 1., 1., 1., 0.], dtype=float32)>"
            ]
          },
          "metadata": {},
          "execution_count": 83
        }
      ]
    },
    {
      "cell_type": "code",
      "source": [
        "# Calculate model 6 performance metrics\n",
        "model_6_results = calculate_results(y_true=val_labels,\n",
        "                                    y_pred=model_6_preds)\n",
        "model_6_results"
      ],
      "metadata": {
        "colab": {
          "base_uri": "https://localhost:8080/"
        },
        "id": "iQKeA1V8Wew2",
        "outputId": "14f82a6f-ae0d-4161-b8be-d8a689479097"
      },
      "execution_count": 84,
      "outputs": [
        {
          "output_type": "execute_result",
          "data": {
            "text/plain": [
              "{'accuracy': 78.87139107611549,\n",
              " 'f1': 0.7877863862721669,\n",
              " 'precision': 0.7888708504227359,\n",
              " 'recall': 0.7887139107611548}"
            ]
          },
          "metadata": {},
          "execution_count": 84
        }
      ]
    },
    {
      "cell_type": "code",
      "source": [
        "baseline_results"
      ],
      "metadata": {
        "colab": {
          "base_uri": "https://localhost:8080/"
        },
        "id": "NwJFANMOWhVH",
        "outputId": "a204ee33-dfae-4840-8341-922e4c00c464"
      },
      "execution_count": 85,
      "outputs": [
        {
          "output_type": "execute_result",
          "data": {
            "text/plain": [
              "{'accuracy': 79.26509186351706,\n",
              " 'f1': 0.7862189758049549,\n",
              " 'precision': 0.8111390004213173,\n",
              " 'recall': 0.7926509186351706}"
            ]
          },
          "metadata": {},
          "execution_count": 85
        }
      ]
    },
    {
      "cell_type": "code",
      "source": [
        "# Add one dense layer\n",
        "model_6_edit = tf.keras.Sequential([\n",
        "    sentence_encoder_layer,\n",
        "    layers.Dense(64, activation='relu'),\n",
        "    layers.Dense(1, activation='sigmoid')\n",
        "], name = 'model_6_edit_USE')\n",
        "\n",
        "# Compile the model\n",
        "model_6_edit.compile(loss='binary_crossentropy',\n",
        "                optimizer='Adam',\n",
        "                metrics=['acc'])\n",
        "\n",
        "# Get a summary\n",
        "model_6_edit.summary()"
      ],
      "metadata": {
        "colab": {
          "base_uri": "https://localhost:8080/"
        },
        "id": "yvOtQNByWuJD",
        "outputId": "f1418d25-7735-42cf-dcc4-831f523a64bd"
      },
      "execution_count": 86,
      "outputs": [
        {
          "output_type": "stream",
          "name": "stdout",
          "text": [
            "Model: \"model_6_edit_USE\"\n",
            "_________________________________________________________________\n",
            " Layer (type)                Output Shape              Param #   \n",
            "=================================================================\n",
            " USE (KerasLayer)            (None, 512)               256797824 \n",
            "                                                                 \n",
            " dense_8 (Dense)             (None, 64)                32832     \n",
            "                                                                 \n",
            " dense_9 (Dense)             (None, 1)                 65        \n",
            "                                                                 \n",
            "=================================================================\n",
            "Total params: 256,830,721\n",
            "Trainable params: 32,897\n",
            "Non-trainable params: 256,797,824\n",
            "_________________________________________________________________\n"
          ]
        }
      ]
    },
    {
      "cell_type": "code",
      "source": [
        "# Train a classifier on top of USE pretrained embeddings\n",
        "model_6_edit_history = model_6_edit.fit(train_sentences,\n",
        "                              train_labels,\n",
        "                              epochs=5,\n",
        "                              validation_data=(val_sentences, val_labels),\n",
        "                              callbacks=[create_tensorboard_callback(SAVE_DIR,\n",
        "                                                                     'tf_hub_sentence_encoder_2')])"
      ],
      "metadata": {
        "colab": {
          "base_uri": "https://localhost:8080/"
        },
        "id": "AA3096TGXLZo",
        "outputId": "25418067-58e4-4082-f261-6ad1ced36100"
      },
      "execution_count": 87,
      "outputs": [
        {
          "output_type": "stream",
          "name": "stdout",
          "text": [
            "Saving TensorBoard log files to: model_logs/tf_hub_sentence_encoder_2/20220121-070359\n",
            "Epoch 1/5\n",
            "215/215 [==============================] - 4s 13ms/step - loss: 0.5037 - acc: 0.7856 - val_loss: 0.4495 - val_acc: 0.7979\n",
            "Epoch 2/5\n",
            "215/215 [==============================] - 2s 11ms/step - loss: 0.4146 - acc: 0.8146 - val_loss: 0.4441 - val_acc: 0.8084\n",
            "Epoch 3/5\n",
            "215/215 [==============================] - 2s 12ms/step - loss: 0.4017 - acc: 0.8205 - val_loss: 0.4337 - val_acc: 0.8123\n",
            "Epoch 4/5\n",
            "215/215 [==============================] - 2s 11ms/step - loss: 0.3925 - acc: 0.8272 - val_loss: 0.4326 - val_acc: 0.8123\n",
            "Epoch 5/5\n",
            "215/215 [==============================] - 2s 11ms/step - loss: 0.3852 - acc: 0.8316 - val_loss: 0.4317 - val_acc: 0.8123\n"
          ]
        }
      ]
    },
    {
      "cell_type": "code",
      "source": [
        "# Make predictions with USE TF HUB model\n",
        "model_6_edit_pred_probs = model_6_edit.predict(val_sentences)\n",
        "model_6_edit_pred_probs[:10]\n",
        "\n",
        "# Convert prediction probabilities to labels\n",
        "model_6_edit_preds = tf.squeeze(tf.round(model_6_edit_pred_probs))\n",
        "model_6_edit_preds[:10]\n",
        "\n",
        "# Calculate model 6 performance metrics\n",
        "model_6_edit_results = calculate_results(y_true=val_labels,\n",
        "                                    y_pred=model_6_edit_preds)\n",
        "model_6_edit_results"
      ],
      "metadata": {
        "colab": {
          "base_uri": "https://localhost:8080/"
        },
        "id": "Oa7YE73QXWdN",
        "outputId": "0d45578e-e878-451f-fb23-cae271c68074"
      },
      "execution_count": 88,
      "outputs": [
        {
          "output_type": "execute_result",
          "data": {
            "text/plain": [
              "{'accuracy': 81.23359580052494,\n",
              " 'f1': 0.8104722790014789,\n",
              " 'precision': 0.8155610053499988,\n",
              " 'recall': 0.8123359580052494}"
            ]
          },
          "metadata": {},
          "execution_count": 88
        }
      ]
    },
    {
      "cell_type": "markdown",
      "source": [
        "# Comparing all models"
      ],
      "metadata": {
        "id": "xJ6WdfTdgAJJ"
      }
    },
    {
      "cell_type": "code",
      "source": [
        "# Combine model results into a DataFrame\n",
        "all_model_results = pd.DataFrame({'0 baseline': baseline_results,\n",
        "                                  '1 simple dense': model_1_results,\n",
        "                                  '2 lstm': model_2_results,\n",
        "                                  '3 gru': model_3_results,\n",
        "                                  '4 bidirectional': model_4_results,\n",
        "                                  '5 conv1d': model_5_results,\n",
        "                                  '6 tf hub use encoder': model_6_edit_results})\n",
        "all_model_results = all_model_results.transpose()\n",
        "all_model_results"
      ],
      "metadata": {
        "id": "McgWz0MmXe73",
        "colab": {
          "base_uri": "https://localhost:8080/",
          "height": 269
        },
        "outputId": "a4926d37-069e-4743-d0eb-a62bc14eb488"
      },
      "execution_count": 100,
      "outputs": [
        {
          "output_type": "execute_result",
          "data": {
            "text/html": [
              "\n",
              "  <div id=\"df-4d7e69f7-87ca-4f42-91e4-02adb8ca96b0\">\n",
              "    <div class=\"colab-df-container\">\n",
              "      <div>\n",
              "<style scoped>\n",
              "    .dataframe tbody tr th:only-of-type {\n",
              "        vertical-align: middle;\n",
              "    }\n",
              "\n",
              "    .dataframe tbody tr th {\n",
              "        vertical-align: top;\n",
              "    }\n",
              "\n",
              "    .dataframe thead th {\n",
              "        text-align: right;\n",
              "    }\n",
              "</style>\n",
              "<table border=\"1\" class=\"dataframe\">\n",
              "  <thead>\n",
              "    <tr style=\"text-align: right;\">\n",
              "      <th></th>\n",
              "      <th>accuracy</th>\n",
              "      <th>precision</th>\n",
              "      <th>recall</th>\n",
              "      <th>f1</th>\n",
              "    </tr>\n",
              "  </thead>\n",
              "  <tbody>\n",
              "    <tr>\n",
              "      <th>0 baseline</th>\n",
              "      <td>79.265092</td>\n",
              "      <td>0.811139</td>\n",
              "      <td>0.792651</td>\n",
              "      <td>0.786219</td>\n",
              "    </tr>\n",
              "    <tr>\n",
              "      <th>1 simple dense</th>\n",
              "      <td>78.346457</td>\n",
              "      <td>0.787212</td>\n",
              "      <td>0.783465</td>\n",
              "      <td>0.780780</td>\n",
              "    </tr>\n",
              "    <tr>\n",
              "      <th>2 lstm</th>\n",
              "      <td>77.296588</td>\n",
              "      <td>0.780793</td>\n",
              "      <td>0.772966</td>\n",
              "      <td>0.768503</td>\n",
              "    </tr>\n",
              "    <tr>\n",
              "      <th>3 gru</th>\n",
              "      <td>76.377953</td>\n",
              "      <td>0.765730</td>\n",
              "      <td>0.763780</td>\n",
              "      <td>0.761364</td>\n",
              "    </tr>\n",
              "    <tr>\n",
              "      <th>4 bidirectional</th>\n",
              "      <td>76.640420</td>\n",
              "      <td>0.766118</td>\n",
              "      <td>0.766404</td>\n",
              "      <td>0.765615</td>\n",
              "    </tr>\n",
              "    <tr>\n",
              "      <th>5 conv1d</th>\n",
              "      <td>75.984252</td>\n",
              "      <td>0.759492</td>\n",
              "      <td>0.759843</td>\n",
              "      <td>0.759561</td>\n",
              "    </tr>\n",
              "    <tr>\n",
              "      <th>6 tf hub use encoder</th>\n",
              "      <td>81.233596</td>\n",
              "      <td>0.815561</td>\n",
              "      <td>0.812336</td>\n",
              "      <td>0.810472</td>\n",
              "    </tr>\n",
              "  </tbody>\n",
              "</table>\n",
              "</div>\n",
              "      <button class=\"colab-df-convert\" onclick=\"convertToInteractive('df-4d7e69f7-87ca-4f42-91e4-02adb8ca96b0')\"\n",
              "              title=\"Convert this dataframe to an interactive table.\"\n",
              "              style=\"display:none;\">\n",
              "        \n",
              "  <svg xmlns=\"http://www.w3.org/2000/svg\" height=\"24px\"viewBox=\"0 0 24 24\"\n",
              "       width=\"24px\">\n",
              "    <path d=\"M0 0h24v24H0V0z\" fill=\"none\"/>\n",
              "    <path d=\"M18.56 5.44l.94 2.06.94-2.06 2.06-.94-2.06-.94-.94-2.06-.94 2.06-2.06.94zm-11 1L8.5 8.5l.94-2.06 2.06-.94-2.06-.94L8.5 2.5l-.94 2.06-2.06.94zm10 10l.94 2.06.94-2.06 2.06-.94-2.06-.94-.94-2.06-.94 2.06-2.06.94z\"/><path d=\"M17.41 7.96l-1.37-1.37c-.4-.4-.92-.59-1.43-.59-.52 0-1.04.2-1.43.59L10.3 9.45l-7.72 7.72c-.78.78-.78 2.05 0 2.83L4 21.41c.39.39.9.59 1.41.59.51 0 1.02-.2 1.41-.59l7.78-7.78 2.81-2.81c.8-.78.8-2.07 0-2.86zM5.41 20L4 18.59l7.72-7.72 1.47 1.35L5.41 20z\"/>\n",
              "  </svg>\n",
              "      </button>\n",
              "      \n",
              "  <style>\n",
              "    .colab-df-container {\n",
              "      display:flex;\n",
              "      flex-wrap:wrap;\n",
              "      gap: 12px;\n",
              "    }\n",
              "\n",
              "    .colab-df-convert {\n",
              "      background-color: #E8F0FE;\n",
              "      border: none;\n",
              "      border-radius: 50%;\n",
              "      cursor: pointer;\n",
              "      display: none;\n",
              "      fill: #1967D2;\n",
              "      height: 32px;\n",
              "      padding: 0 0 0 0;\n",
              "      width: 32px;\n",
              "    }\n",
              "\n",
              "    .colab-df-convert:hover {\n",
              "      background-color: #E2EBFA;\n",
              "      box-shadow: 0px 1px 2px rgba(60, 64, 67, 0.3), 0px 1px 3px 1px rgba(60, 64, 67, 0.15);\n",
              "      fill: #174EA6;\n",
              "    }\n",
              "\n",
              "    [theme=dark] .colab-df-convert {\n",
              "      background-color: #3B4455;\n",
              "      fill: #D2E3FC;\n",
              "    }\n",
              "\n",
              "    [theme=dark] .colab-df-convert:hover {\n",
              "      background-color: #434B5C;\n",
              "      box-shadow: 0px 1px 3px 1px rgba(0, 0, 0, 0.15);\n",
              "      filter: drop-shadow(0px 1px 2px rgba(0, 0, 0, 0.3));\n",
              "      fill: #FFFFFF;\n",
              "    }\n",
              "  </style>\n",
              "\n",
              "      <script>\n",
              "        const buttonEl =\n",
              "          document.querySelector('#df-4d7e69f7-87ca-4f42-91e4-02adb8ca96b0 button.colab-df-convert');\n",
              "        buttonEl.style.display =\n",
              "          google.colab.kernel.accessAllowed ? 'block' : 'none';\n",
              "\n",
              "        async function convertToInteractive(key) {\n",
              "          const element = document.querySelector('#df-4d7e69f7-87ca-4f42-91e4-02adb8ca96b0');\n",
              "          const dataTable =\n",
              "            await google.colab.kernel.invokeFunction('convertToInteractive',\n",
              "                                                     [key], {});\n",
              "          if (!dataTable) return;\n",
              "\n",
              "          const docLinkHtml = 'Like what you see? Visit the ' +\n",
              "            '<a target=\"_blank\" href=https://colab.research.google.com/notebooks/data_table.ipynb>data table notebook</a>'\n",
              "            + ' to learn more about interactive tables.';\n",
              "          element.innerHTML = '';\n",
              "          dataTable['output_type'] = 'display_data';\n",
              "          await google.colab.output.renderOutput(dataTable, element);\n",
              "          const docLink = document.createElement('div');\n",
              "          docLink.innerHTML = docLinkHtml;\n",
              "          element.appendChild(docLink);\n",
              "        }\n",
              "      </script>\n",
              "    </div>\n",
              "  </div>\n",
              "  "
            ],
            "text/plain": [
              "                       accuracy  precision    recall        f1\n",
              "0 baseline            79.265092   0.811139  0.792651  0.786219\n",
              "1 simple dense        78.346457   0.787212  0.783465  0.780780\n",
              "2 lstm                77.296588   0.780793  0.772966  0.768503\n",
              "3 gru                 76.377953   0.765730  0.763780  0.761364\n",
              "4 bidirectional       76.640420   0.766118  0.766404  0.765615\n",
              "5 conv1d              75.984252   0.759492  0.759843  0.759561\n",
              "6 tf hub use encoder  81.233596   0.815561  0.812336  0.810472"
            ]
          },
          "metadata": {},
          "execution_count": 100
        }
      ]
    },
    {
      "cell_type": "code",
      "source": [
        "all_model_results['accuracy'] = all_model_results['accuracy'] / 100\n",
        "all_model_results"
      ],
      "metadata": {
        "colab": {
          "base_uri": "https://localhost:8080/",
          "height": 269
        },
        "id": "jLi7BUqNgW5x",
        "outputId": "06a6e5ec-be36-4894-c17b-d786c9da0bda"
      },
      "execution_count": 101,
      "outputs": [
        {
          "output_type": "execute_result",
          "data": {
            "text/html": [
              "\n",
              "  <div id=\"df-3b505479-fa0d-40e9-a9a7-09b208b14cd2\">\n",
              "    <div class=\"colab-df-container\">\n",
              "      <div>\n",
              "<style scoped>\n",
              "    .dataframe tbody tr th:only-of-type {\n",
              "        vertical-align: middle;\n",
              "    }\n",
              "\n",
              "    .dataframe tbody tr th {\n",
              "        vertical-align: top;\n",
              "    }\n",
              "\n",
              "    .dataframe thead th {\n",
              "        text-align: right;\n",
              "    }\n",
              "</style>\n",
              "<table border=\"1\" class=\"dataframe\">\n",
              "  <thead>\n",
              "    <tr style=\"text-align: right;\">\n",
              "      <th></th>\n",
              "      <th>accuracy</th>\n",
              "      <th>precision</th>\n",
              "      <th>recall</th>\n",
              "      <th>f1</th>\n",
              "    </tr>\n",
              "  </thead>\n",
              "  <tbody>\n",
              "    <tr>\n",
              "      <th>0 baseline</th>\n",
              "      <td>0.792651</td>\n",
              "      <td>0.811139</td>\n",
              "      <td>0.792651</td>\n",
              "      <td>0.786219</td>\n",
              "    </tr>\n",
              "    <tr>\n",
              "      <th>1 simple dense</th>\n",
              "      <td>0.783465</td>\n",
              "      <td>0.787212</td>\n",
              "      <td>0.783465</td>\n",
              "      <td>0.780780</td>\n",
              "    </tr>\n",
              "    <tr>\n",
              "      <th>2 lstm</th>\n",
              "      <td>0.772966</td>\n",
              "      <td>0.780793</td>\n",
              "      <td>0.772966</td>\n",
              "      <td>0.768503</td>\n",
              "    </tr>\n",
              "    <tr>\n",
              "      <th>3 gru</th>\n",
              "      <td>0.763780</td>\n",
              "      <td>0.765730</td>\n",
              "      <td>0.763780</td>\n",
              "      <td>0.761364</td>\n",
              "    </tr>\n",
              "    <tr>\n",
              "      <th>4 bidirectional</th>\n",
              "      <td>0.766404</td>\n",
              "      <td>0.766118</td>\n",
              "      <td>0.766404</td>\n",
              "      <td>0.765615</td>\n",
              "    </tr>\n",
              "    <tr>\n",
              "      <th>5 conv1d</th>\n",
              "      <td>0.759843</td>\n",
              "      <td>0.759492</td>\n",
              "      <td>0.759843</td>\n",
              "      <td>0.759561</td>\n",
              "    </tr>\n",
              "    <tr>\n",
              "      <th>6 tf hub use encoder</th>\n",
              "      <td>0.812336</td>\n",
              "      <td>0.815561</td>\n",
              "      <td>0.812336</td>\n",
              "      <td>0.810472</td>\n",
              "    </tr>\n",
              "  </tbody>\n",
              "</table>\n",
              "</div>\n",
              "      <button class=\"colab-df-convert\" onclick=\"convertToInteractive('df-3b505479-fa0d-40e9-a9a7-09b208b14cd2')\"\n",
              "              title=\"Convert this dataframe to an interactive table.\"\n",
              "              style=\"display:none;\">\n",
              "        \n",
              "  <svg xmlns=\"http://www.w3.org/2000/svg\" height=\"24px\"viewBox=\"0 0 24 24\"\n",
              "       width=\"24px\">\n",
              "    <path d=\"M0 0h24v24H0V0z\" fill=\"none\"/>\n",
              "    <path d=\"M18.56 5.44l.94 2.06.94-2.06 2.06-.94-2.06-.94-.94-2.06-.94 2.06-2.06.94zm-11 1L8.5 8.5l.94-2.06 2.06-.94-2.06-.94L8.5 2.5l-.94 2.06-2.06.94zm10 10l.94 2.06.94-2.06 2.06-.94-2.06-.94-.94-2.06-.94 2.06-2.06.94z\"/><path d=\"M17.41 7.96l-1.37-1.37c-.4-.4-.92-.59-1.43-.59-.52 0-1.04.2-1.43.59L10.3 9.45l-7.72 7.72c-.78.78-.78 2.05 0 2.83L4 21.41c.39.39.9.59 1.41.59.51 0 1.02-.2 1.41-.59l7.78-7.78 2.81-2.81c.8-.78.8-2.07 0-2.86zM5.41 20L4 18.59l7.72-7.72 1.47 1.35L5.41 20z\"/>\n",
              "  </svg>\n",
              "      </button>\n",
              "      \n",
              "  <style>\n",
              "    .colab-df-container {\n",
              "      display:flex;\n",
              "      flex-wrap:wrap;\n",
              "      gap: 12px;\n",
              "    }\n",
              "\n",
              "    .colab-df-convert {\n",
              "      background-color: #E8F0FE;\n",
              "      border: none;\n",
              "      border-radius: 50%;\n",
              "      cursor: pointer;\n",
              "      display: none;\n",
              "      fill: #1967D2;\n",
              "      height: 32px;\n",
              "      padding: 0 0 0 0;\n",
              "      width: 32px;\n",
              "    }\n",
              "\n",
              "    .colab-df-convert:hover {\n",
              "      background-color: #E2EBFA;\n",
              "      box-shadow: 0px 1px 2px rgba(60, 64, 67, 0.3), 0px 1px 3px 1px rgba(60, 64, 67, 0.15);\n",
              "      fill: #174EA6;\n",
              "    }\n",
              "\n",
              "    [theme=dark] .colab-df-convert {\n",
              "      background-color: #3B4455;\n",
              "      fill: #D2E3FC;\n",
              "    }\n",
              "\n",
              "    [theme=dark] .colab-df-convert:hover {\n",
              "      background-color: #434B5C;\n",
              "      box-shadow: 0px 1px 3px 1px rgba(0, 0, 0, 0.15);\n",
              "      filter: drop-shadow(0px 1px 2px rgba(0, 0, 0, 0.3));\n",
              "      fill: #FFFFFF;\n",
              "    }\n",
              "  </style>\n",
              "\n",
              "      <script>\n",
              "        const buttonEl =\n",
              "          document.querySelector('#df-3b505479-fa0d-40e9-a9a7-09b208b14cd2 button.colab-df-convert');\n",
              "        buttonEl.style.display =\n",
              "          google.colab.kernel.accessAllowed ? 'block' : 'none';\n",
              "\n",
              "        async function convertToInteractive(key) {\n",
              "          const element = document.querySelector('#df-3b505479-fa0d-40e9-a9a7-09b208b14cd2');\n",
              "          const dataTable =\n",
              "            await google.colab.kernel.invokeFunction('convertToInteractive',\n",
              "                                                     [key], {});\n",
              "          if (!dataTable) return;\n",
              "\n",
              "          const docLinkHtml = 'Like what you see? Visit the ' +\n",
              "            '<a target=\"_blank\" href=https://colab.research.google.com/notebooks/data_table.ipynb>data table notebook</a>'\n",
              "            + ' to learn more about interactive tables.';\n",
              "          element.innerHTML = '';\n",
              "          dataTable['output_type'] = 'display_data';\n",
              "          await google.colab.output.renderOutput(dataTable, element);\n",
              "          const docLink = document.createElement('div');\n",
              "          docLink.innerHTML = docLinkHtml;\n",
              "          element.appendChild(docLink);\n",
              "        }\n",
              "      </script>\n",
              "    </div>\n",
              "  </div>\n",
              "  "
            ],
            "text/plain": [
              "                      accuracy  precision    recall        f1\n",
              "0 baseline            0.792651   0.811139  0.792651  0.786219\n",
              "1 simple dense        0.783465   0.787212  0.783465  0.780780\n",
              "2 lstm                0.772966   0.780793  0.772966  0.768503\n",
              "3 gru                 0.763780   0.765730  0.763780  0.761364\n",
              "4 bidirectional       0.766404   0.766118  0.766404  0.765615\n",
              "5 conv1d              0.759843   0.759492  0.759843  0.759561\n",
              "6 tf hub use encoder  0.812336   0.815561  0.812336  0.810472"
            ]
          },
          "metadata": {},
          "execution_count": 101
        }
      ]
    },
    {
      "cell_type": "code",
      "source": [
        "# Plot and compare all of the model results\n",
        "all_model_results.plot(kind='bar', figsize=(10, 7)).legend(bbox_to_anchor=(1.0, 1.0));"
      ],
      "metadata": {
        "colab": {
          "base_uri": "https://localhost:8080/",
          "height": 522
        },
        "id": "CEQlsb2liN05",
        "outputId": "390b6bd1-89d1-4950-bf52-fda131255eb4"
      },
      "execution_count": 103,
      "outputs": [
        {
          "output_type": "display_data",
          "data": {
            "image/png": "[encoded data removed]",
            "text/plain": [
              "<Figure size 720x504 with 1 Axes>"
            ]
          },
          "metadata": {
            "needs_background": "light"
          }
        }
      ]
    },
    {
      "cell_type": "code",
      "source": [
        "# Sort model results by f1-score\n",
        "all_model_results.sort_values('f1', ascending=False)['f1'].plot(kind='bar');"
      ],
      "metadata": {
        "colab": {
          "base_uri": "https://localhost:8080/",
          "height": 359
        },
        "id": "OnTrLc97imBQ",
        "outputId": "63d31c18-ad67-4c84-84b6-61295a31b18f"
      },
      "execution_count": 111,
      "outputs": [
        {
          "output_type": "display_data",
          "data": {
            "image/png": "[encoded data removed]",
            "text/plain": [
              "<Figure size 432x288 with 1 Axes>"
            ]
          },
          "metadata": {
            "needs_background": "light"
          }
        }
      ]
    },
    {
      "cell_type": "markdown",
      "source": [
        "# Save and Load the best model"
      ],
      "metadata": {
        "id": "hBgegGUZnsw_"
      }
    },
    {
      "cell_type": "code",
      "source": [
        "# SavedModel format\n",
        "model_6_edit.save('model_6_SavedModel_format')"
      ],
      "metadata": {
        "colab": {
          "base_uri": "https://localhost:8080/"
        },
        "id": "vziYvgcNpyJr",
        "outputId": "fe46ccbc-605f-4518-dc5b-c27bfc525460"
      },
      "execution_count": 134,
      "outputs": [
        {
          "output_type": "stream",
          "name": "stderr",
          "text": [
            "WARNING:absl:Function `_wrapped_model` contains input name(s) USE_input with unsupported characters which will be renamed to use_input in the SavedModel.\n"
          ]
        },
        {
          "output_type": "stream",
          "name": "stdout",
          "text": [
            "INFO:tensorflow:Assets written to: model_6_SavedModel_format/assets\n"
          ]
        },
        {
          "output_type": "stream",
          "name": "stderr",
          "text": [
            "INFO:tensorflow:Assets written to: model_6_SavedModel_format/assets\n"
          ]
        }
      ]
    },
    {
      "cell_type": "code",
      "source": [
        "# Load in a model from the SavedModel format\n",
        "loaded_model_6_SavedModel_format = tf.keras.models.load_model('model_6_SavedModel_format')"
      ],
      "metadata": {
        "id": "ymmesrPaqIs_"
      },
      "execution_count": 135,
      "outputs": []
    },
    {
      "cell_type": "code",
      "source": [
        "# Evaluate model in SavedModel format\n",
        "loaded_model_6_SavedModel_format.evaluate(val_sentences, val_labels)"
      ],
      "metadata": {
        "colab": {
          "base_uri": "https://localhost:8080/"
        },
        "id": "JjbDQRb_qlBK",
        "outputId": "c6da281f-54d1-45b8-8e6a-c130a7bfd678"
      },
      "execution_count": 136,
      "outputs": [
        {
          "output_type": "stream",
          "name": "stdout",
          "text": [
            "24/24 [==============================] - 1s 10ms/step - loss: 0.4317 - acc: 0.8123\n"
          ]
        },
        {
          "output_type": "execute_result",
          "data": {
            "text/plain": [
              "[0.43170472979545593, 0.8123359680175781]"
            ]
          },
          "metadata": {},
          "execution_count": 136
        }
      ]
    },
    {
      "cell_type": "code",
      "source": [
        "# Find the most wrong examples\n",
        "model_6_pretrained = tf.keras.models.load_model('model_6_SavedModel_format')\n",
        "model_6_pretrained.evaluate(val_sentences, val_labels)"
      ],
      "metadata": {
        "colab": {
          "base_uri": "https://localhost:8080/"
        },
        "id": "xevGw_aTqrH4",
        "outputId": "8cac2e4a-687d-4f86-ddb0-99bdb5786077"
      },
      "execution_count": 137,
      "outputs": [
        {
          "output_type": "stream",
          "name": "stdout",
          "text": [
            "24/24 [==============================] - 1s 10ms/step - loss: 0.4317 - acc: 0.8123\n"
          ]
        },
        {
          "output_type": "execute_result",
          "data": {
            "text/plain": [
              "[0.43170472979545593, 0.8123359680175781]"
            ]
          },
          "metadata": {},
          "execution_count": 137
        }
      ]
    },
    {
      "cell_type": "code",
      "source": [
        "# Make predictions\n",
        "model_6_pretrained_pred_probs = model_6_pretrained.predict(val_sentences)\n",
        "model_6_pretrained_preds = tf.squeeze(tf.round(model_6_pretrained_pred_probs))\n",
        "model_6_pretrained_preds[:10]"
      ],
      "metadata": {
        "colab": {
          "base_uri": "https://localhost:8080/"
        },
        "id": "TeFPwnyux_3k",
        "outputId": "07dbb707-befc-40d7-fc07-38ad954ef706"
      },
      "execution_count": 138,
      "outputs": [
        {
          "output_type": "execute_result",
          "data": {
            "text/plain": [
              "<tf.Tensor: shape=(10,), dtype=float32, numpy=array([0., 1., 1., 0., 1., 1., 1., 1., 1., 0.], dtype=float32)>"
            ]
          },
          "metadata": {},
          "execution_count": 138
        }
      ]
    },
    {
      "cell_type": "code",
      "source": [
        "val_df = pd.DataFrame({'text': val_sentences,\n",
        "                       'target': val_labels,\n",
        "                       'pred': model_6_pretrained_preds,\n",
        "                       'pred_prob': tf.squeeze(model_6_pretrained_pred_probs)})\n",
        "val_df.head()"
      ],
      "metadata": {
        "colab": {
          "base_uri": "https://localhost:8080/",
          "height": 206
        },
        "id": "ADObOCKaxbhs",
        "outputId": "15235c9d-e7a7-4135-dd8c-5dbd879596d5"
      },
      "execution_count": 143,
      "outputs": [
        {
          "output_type": "execute_result",
          "data": {
            "text/html": [
              "\n",
              "  <div id=\"df-8039a255-87e0-4473-a4ad-ce61cbaf6e7b\">\n",
              "    <div class=\"colab-df-container\">\n",
              "      <div>\n",
              "<style scoped>\n",
              "    .dataframe tbody tr th:only-of-type {\n",
              "        vertical-align: middle;\n",
              "    }\n",
              "\n",
              "    .dataframe tbody tr th {\n",
              "        vertical-align: top;\n",
              "    }\n",
              "\n",
              "    .dataframe thead th {\n",
              "        text-align: right;\n",
              "    }\n",
              "</style>\n",
              "<table border=\"1\" class=\"dataframe\">\n",
              "  <thead>\n",
              "    <tr style=\"text-align: right;\">\n",
              "      <th></th>\n",
              "      <th>text</th>\n",
              "      <th>target</th>\n",
              "      <th>pred</th>\n",
              "      <th>pred_prob</th>\n",
              "    </tr>\n",
              "  </thead>\n",
              "  <tbody>\n",
              "    <tr>\n",
              "      <th>0</th>\n",
              "      <td>DFR EP016 Monthly Meltdown - On Dnbheaven 2015...</td>\n",
              "      <td>0</td>\n",
              "      <td>0.0</td>\n",
              "      <td>0.179185</td>\n",
              "    </tr>\n",
              "    <tr>\n",
              "      <th>1</th>\n",
              "      <td>FedEx no longer to transport bioterror germs i...</td>\n",
              "      <td>0</td>\n",
              "      <td>1.0</td>\n",
              "      <td>0.804026</td>\n",
              "    </tr>\n",
              "    <tr>\n",
              "      <th>2</th>\n",
              "      <td>Gunmen kill four in El Salvador bus attack: Su...</td>\n",
              "      <td>1</td>\n",
              "      <td>1.0</td>\n",
              "      <td>0.987508</td>\n",
              "    </tr>\n",
              "    <tr>\n",
              "      <th>3</th>\n",
              "      <td>@camilacabello97 Internally and externally scr...</td>\n",
              "      <td>1</td>\n",
              "      <td>0.0</td>\n",
              "      <td>0.210798</td>\n",
              "    </tr>\n",
              "    <tr>\n",
              "      <th>4</th>\n",
              "      <td>Radiation emergency #preparedness starts with ...</td>\n",
              "      <td>1</td>\n",
              "      <td>1.0</td>\n",
              "      <td>0.747584</td>\n",
              "    </tr>\n",
              "  </tbody>\n",
              "</table>\n",
              "</div>\n",
              "      <button class=\"colab-df-convert\" onclick=\"convertToInteractive('df-8039a255-87e0-4473-a4ad-ce61cbaf6e7b')\"\n",
              "              title=\"Convert this dataframe to an interactive table.\"\n",
              "              style=\"display:none;\">\n",
              "        \n",
              "  <svg xmlns=\"http://www.w3.org/2000/svg\" height=\"24px\"viewBox=\"0 0 24 24\"\n",
              "       width=\"24px\">\n",
              "    <path d=\"M0 0h24v24H0V0z\" fill=\"none\"/>\n",
              "    <path d=\"M18.56 5.44l.94 2.06.94-2.06 2.06-.94-2.06-.94-.94-2.06-.94 2.06-2.06.94zm-11 1L8.5 8.5l.94-2.06 2.06-.94-2.06-.94L8.5 2.5l-.94 2.06-2.06.94zm10 10l.94 2.06.94-2.06 2.06-.94-2.06-.94-.94-2.06-.94 2.06-2.06.94z\"/><path d=\"M17.41 7.96l-1.37-1.37c-.4-.4-.92-.59-1.43-.59-.52 0-1.04.2-1.43.59L10.3 9.45l-7.72 7.72c-.78.78-.78 2.05 0 2.83L4 21.41c.39.39.9.59 1.41.59.51 0 1.02-.2 1.41-.59l7.78-7.78 2.81-2.81c.8-.78.8-2.07 0-2.86zM5.41 20L4 18.59l7.72-7.72 1.47 1.35L5.41 20z\"/>\n",
              "  </svg>\n",
              "      </button>\n",
              "      \n",
              "  <style>\n",
              "    .colab-df-container {\n",
              "      display:flex;\n",
              "      flex-wrap:wrap;\n",
              "      gap: 12px;\n",
              "    }\n",
              "\n",
              "    .colab-df-convert {\n",
              "      background-color: #E8F0FE;\n",
              "      border: none;\n",
              "      border-radius: 50%;\n",
              "      cursor: pointer;\n",
              "      display: none;\n",
              "      fill: #1967D2;\n",
              "      height: 32px;\n",
              "      padding: 0 0 0 0;\n",
              "      width: 32px;\n",
              "    }\n",
              "\n",
              "    .colab-df-convert:hover {\n",
              "      background-color: #E2EBFA;\n",
              "      box-shadow: 0px 1px 2px rgba(60, 64, 67, 0.3), 0px 1px 3px 1px rgba(60, 64, 67, 0.15);\n",
              "      fill: #174EA6;\n",
              "    }\n",
              "\n",
              "    [theme=dark] .colab-df-convert {\n",
              "      background-color: #3B4455;\n",
              "      fill: #D2E3FC;\n",
              "    }\n",
              "\n",
              "    [theme=dark] .colab-df-convert:hover {\n",
              "      background-color: #434B5C;\n",
              "      box-shadow: 0px 1px 3px 1px rgba(0, 0, 0, 0.15);\n",
              "      filter: drop-shadow(0px 1px 2px rgba(0, 0, 0, 0.3));\n",
              "      fill: #FFFFFF;\n",
              "    }\n",
              "  </style>\n",
              "\n",
              "      <script>\n",
              "        const buttonEl =\n",
              "          document.querySelector('#df-8039a255-87e0-4473-a4ad-ce61cbaf6e7b button.colab-df-convert');\n",
              "        buttonEl.style.display =\n",
              "          google.colab.kernel.accessAllowed ? 'block' : 'none';\n",
              "\n",
              "        async function convertToInteractive(key) {\n",
              "          const element = document.querySelector('#df-8039a255-87e0-4473-a4ad-ce61cbaf6e7b');\n",
              "          const dataTable =\n",
              "            await google.colab.kernel.invokeFunction('convertToInteractive',\n",
              "                                                     [key], {});\n",
              "          if (!dataTable) return;\n",
              "\n",
              "          const docLinkHtml = 'Like what you see? Visit the ' +\n",
              "            '<a target=\"_blank\" href=https://colab.research.google.com/notebooks/data_table.ipynb>data table notebook</a>'\n",
              "            + ' to learn more about interactive tables.';\n",
              "          element.innerHTML = '';\n",
              "          dataTable['output_type'] = 'display_data';\n",
              "          await google.colab.output.renderOutput(dataTable, element);\n",
              "          const docLink = document.createElement('div');\n",
              "          docLink.innerHTML = docLinkHtml;\n",
              "          element.appendChild(docLink);\n",
              "        }\n",
              "      </script>\n",
              "    </div>\n",
              "  </div>\n",
              "  "
            ],
            "text/plain": [
              "                                                text  target  pred  pred_prob\n",
              "0  DFR EP016 Monthly Meltdown - On Dnbheaven 2015...       0   0.0   0.179185\n",
              "1  FedEx no longer to transport bioterror germs i...       0   1.0   0.804026\n",
              "2  Gunmen kill four in El Salvador bus attack: Su...       1   1.0   0.987508\n",
              "3  @camilacabello97 Internally and externally scr...       1   0.0   0.210798\n",
              "4  Radiation emergency #preparedness starts with ...       1   1.0   0.747584"
            ]
          },
          "metadata": {},
          "execution_count": 143
        }
      ]
    },
    {
      "cell_type": "markdown",
      "source": [
        "# Find model's most wrong predictions"
      ],
      "metadata": {
        "id": "6Q5fY4MH6mPV"
      }
    },
    {
      "cell_type": "code",
      "source": [
        "# Find the wrong predictions and sort by prediction probabilities\n",
        "most_wrong = val_df[val_df.target != val_df.pred].sort_values('pred_prob', ascending=False)\n",
        "most_wrong[:10]       # these are false positives"
      ],
      "metadata": {
        "colab": {
          "base_uri": "https://localhost:8080/",
          "height": 363
        },
        "id": "Gld5tFeqyShF",
        "outputId": "49dc7488-417c-43ff-9b30-392ff0578233"
      },
      "execution_count": 145,
      "outputs": [
        {
          "output_type": "execute_result",
          "data": {
            "text/html": [
              "\n",
              "  <div id=\"df-c6ff141b-3f77-48ae-bdf0-2ef42f507470\">\n",
              "    <div class=\"colab-df-container\">\n",
              "      <div>\n",
              "<style scoped>\n",
              "    .dataframe tbody tr th:only-of-type {\n",
              "        vertical-align: middle;\n",
              "    }\n",
              "\n",
              "    .dataframe tbody tr th {\n",
              "        vertical-align: top;\n",
              "    }\n",
              "\n",
              "    .dataframe thead th {\n",
              "        text-align: right;\n",
              "    }\n",
              "</style>\n",
              "<table border=\"1\" class=\"dataframe\">\n",
              "  <thead>\n",
              "    <tr style=\"text-align: right;\">\n",
              "      <th></th>\n",
              "      <th>text</th>\n",
              "      <th>target</th>\n",
              "      <th>pred</th>\n",
              "      <th>pred_prob</th>\n",
              "    </tr>\n",
              "  </thead>\n",
              "  <tbody>\n",
              "    <tr>\n",
              "      <th>31</th>\n",
              "      <td>? High Skies - Burning Buildings ? http://t.co...</td>\n",
              "      <td>0</td>\n",
              "      <td>1.0</td>\n",
              "      <td>0.913734</td>\n",
              "    </tr>\n",
              "    <tr>\n",
              "      <th>759</th>\n",
              "      <td>FedEx will no longer transport bioterror patho...</td>\n",
              "      <td>0</td>\n",
              "      <td>1.0</td>\n",
              "      <td>0.902113</td>\n",
              "    </tr>\n",
              "    <tr>\n",
              "      <th>109</th>\n",
              "      <td>[55436] 1950 LIONEL TRAINS SMOKE LOCOMOTIVES W...</td>\n",
              "      <td>0</td>\n",
              "      <td>1.0</td>\n",
              "      <td>0.858745</td>\n",
              "    </tr>\n",
              "    <tr>\n",
              "      <th>628</th>\n",
              "      <td>@noah_anyname That's where the concentration c...</td>\n",
              "      <td>0</td>\n",
              "      <td>1.0</td>\n",
              "      <td>0.842086</td>\n",
              "    </tr>\n",
              "    <tr>\n",
              "      <th>393</th>\n",
              "      <td>@SonofLiberty357 all illuminated by the bright...</td>\n",
              "      <td>0</td>\n",
              "      <td>1.0</td>\n",
              "      <td>0.832686</td>\n",
              "    </tr>\n",
              "    <tr>\n",
              "      <th>49</th>\n",
              "      <td>@madonnamking RSPCA site multiple 7 story high...</td>\n",
              "      <td>0</td>\n",
              "      <td>1.0</td>\n",
              "      <td>0.819655</td>\n",
              "    </tr>\n",
              "    <tr>\n",
              "      <th>1</th>\n",
              "      <td>FedEx no longer to transport bioterror germs i...</td>\n",
              "      <td>0</td>\n",
              "      <td>1.0</td>\n",
              "      <td>0.804026</td>\n",
              "    </tr>\n",
              "    <tr>\n",
              "      <th>209</th>\n",
              "      <td>Ashes 2015: AustraliaÛªs collapse at Trent Br...</td>\n",
              "      <td>0</td>\n",
              "      <td>1.0</td>\n",
              "      <td>0.780867</td>\n",
              "    </tr>\n",
              "    <tr>\n",
              "      <th>251</th>\n",
              "      <td>@AshGhebranious civil rights continued in the ...</td>\n",
              "      <td>0</td>\n",
              "      <td>1.0</td>\n",
              "      <td>0.769608</td>\n",
              "    </tr>\n",
              "    <tr>\n",
              "      <th>567</th>\n",
              "      <td>@RebeccaforReal accepts Wisconsin Emergency Re...</td>\n",
              "      <td>0</td>\n",
              "      <td>1.0</td>\n",
              "      <td>0.745261</td>\n",
              "    </tr>\n",
              "  </tbody>\n",
              "</table>\n",
              "</div>\n",
              "      <button class=\"colab-df-convert\" onclick=\"convertToInteractive('df-c6ff141b-3f77-48ae-bdf0-2ef42f507470')\"\n",
              "              title=\"Convert this dataframe to an interactive table.\"\n",
              "              style=\"display:none;\">\n",
              "        \n",
              "  <svg xmlns=\"http://www.w3.org/2000/svg\" height=\"24px\"viewBox=\"0 0 24 24\"\n",
              "       width=\"24px\">\n",
              "    <path d=\"M0 0h24v24H0V0z\" fill=\"none\"/>\n",
              "    <path d=\"M18.56 5.44l.94 2.06.94-2.06 2.06-.94-2.06-.94-.94-2.06-.94 2.06-2.06.94zm-11 1L8.5 8.5l.94-2.06 2.06-.94-2.06-.94L8.5 2.5l-.94 2.06-2.06.94zm10 10l.94 2.06.94-2.06 2.06-.94-2.06-.94-.94-2.06-.94 2.06-2.06.94z\"/><path d=\"M17.41 7.96l-1.37-1.37c-.4-.4-.92-.59-1.43-.59-.52 0-1.04.2-1.43.59L10.3 9.45l-7.72 7.72c-.78.78-.78 2.05 0 2.83L4 21.41c.39.39.9.59 1.41.59.51 0 1.02-.2 1.41-.59l7.78-7.78 2.81-2.81c.8-.78.8-2.07 0-2.86zM5.41 20L4 18.59l7.72-7.72 1.47 1.35L5.41 20z\"/>\n",
              "  </svg>\n",
              "      </button>\n",
              "      \n",
              "  <style>\n",
              "    .colab-df-container {\n",
              "      display:flex;\n",
              "      flex-wrap:wrap;\n",
              "      gap: 12px;\n",
              "    }\n",
              "\n",
              "    .colab-df-convert {\n",
              "      background-color: #E8F0FE;\n",
              "      border: none;\n",
              "      border-radius: 50%;\n",
              "      cursor: pointer;\n",
              "      display: none;\n",
              "      fill: #1967D2;\n",
              "      height: 32px;\n",
              "      padding: 0 0 0 0;\n",
              "      width: 32px;\n",
              "    }\n",
              "\n",
              "    .colab-df-convert:hover {\n",
              "      background-color: #E2EBFA;\n",
              "      box-shadow: 0px 1px 2px rgba(60, 64, 67, 0.3), 0px 1px 3px 1px rgba(60, 64, 67, 0.15);\n",
              "      fill: #174EA6;\n",
              "    }\n",
              "\n",
              "    [theme=dark] .colab-df-convert {\n",
              "      background-color: #3B4455;\n",
              "      fill: #D2E3FC;\n",
              "    }\n",
              "\n",
              "    [theme=dark] .colab-df-convert:hover {\n",
              "      background-color: #434B5C;\n",
              "      box-shadow: 0px 1px 3px 1px rgba(0, 0, 0, 0.15);\n",
              "      filter: drop-shadow(0px 1px 2px rgba(0, 0, 0, 0.3));\n",
              "      fill: #FFFFFF;\n",
              "    }\n",
              "  </style>\n",
              "\n",
              "      <script>\n",
              "        const buttonEl =\n",
              "          document.querySelector('#df-c6ff141b-3f77-48ae-bdf0-2ef42f507470 button.colab-df-convert');\n",
              "        buttonEl.style.display =\n",
              "          google.colab.kernel.accessAllowed ? 'block' : 'none';\n",
              "\n",
              "        async function convertToInteractive(key) {\n",
              "          const element = document.querySelector('#df-c6ff141b-3f77-48ae-bdf0-2ef42f507470');\n",
              "          const dataTable =\n",
              "            await google.colab.kernel.invokeFunction('convertToInteractive',\n",
              "                                                     [key], {});\n",
              "          if (!dataTable) return;\n",
              "\n",
              "          const docLinkHtml = 'Like what you see? Visit the ' +\n",
              "            '<a target=\"_blank\" href=https://colab.research.google.com/notebooks/data_table.ipynb>data table notebook</a>'\n",
              "            + ' to learn more about interactive tables.';\n",
              "          element.innerHTML = '';\n",
              "          dataTable['output_type'] = 'display_data';\n",
              "          await google.colab.output.renderOutput(dataTable, element);\n",
              "          const docLink = document.createElement('div');\n",
              "          docLink.innerHTML = docLinkHtml;\n",
              "          element.appendChild(docLink);\n",
              "        }\n",
              "      </script>\n",
              "    </div>\n",
              "  </div>\n",
              "  "
            ],
            "text/plain": [
              "                                                  text  target  pred  pred_prob\n",
              "31   ? High Skies - Burning Buildings ? http://t.co...       0   1.0   0.913734\n",
              "759  FedEx will no longer transport bioterror patho...       0   1.0   0.902113\n",
              "109  [55436] 1950 LIONEL TRAINS SMOKE LOCOMOTIVES W...       0   1.0   0.858745\n",
              "628  @noah_anyname That's where the concentration c...       0   1.0   0.842086\n",
              "393  @SonofLiberty357 all illuminated by the bright...       0   1.0   0.832686\n",
              "49   @madonnamking RSPCA site multiple 7 story high...       0   1.0   0.819655\n",
              "1    FedEx no longer to transport bioterror germs i...       0   1.0   0.804026\n",
              "209  Ashes 2015: AustraliaÛªs collapse at Trent Br...       0   1.0   0.780867\n",
              "251  @AshGhebranious civil rights continued in the ...       0   1.0   0.769608\n",
              "567  @RebeccaforReal accepts Wisconsin Emergency Re...       0   1.0   0.745261"
            ]
          },
          "metadata": {},
          "execution_count": 145
        }
      ]
    },
    {
      "cell_type": "code",
      "source": [
        "most_wrong[-10:]        # these are false negatives"
      ],
      "metadata": {
        "colab": {
          "base_uri": "https://localhost:8080/",
          "height": 363
        },
        "id": "CuXKvRiHzAo9",
        "outputId": "591a8c71-6c29-4a43-d854-c932734ef481"
      },
      "execution_count": 147,
      "outputs": [
        {
          "output_type": "execute_result",
          "data": {
            "text/html": [
              "\n",
              "  <div id=\"df-cca50610-8db0-498b-8eaf-f2fced83594a\">\n",
              "    <div class=\"colab-df-container\">\n",
              "      <div>\n",
              "<style scoped>\n",
              "    .dataframe tbody tr th:only-of-type {\n",
              "        vertical-align: middle;\n",
              "    }\n",
              "\n",
              "    .dataframe tbody tr th {\n",
              "        vertical-align: top;\n",
              "    }\n",
              "\n",
              "    .dataframe thead th {\n",
              "        text-align: right;\n",
              "    }\n",
              "</style>\n",
              "<table border=\"1\" class=\"dataframe\">\n",
              "  <thead>\n",
              "    <tr style=\"text-align: right;\">\n",
              "      <th></th>\n",
              "      <th>text</th>\n",
              "      <th>target</th>\n",
              "      <th>pred</th>\n",
              "      <th>pred_prob</th>\n",
              "    </tr>\n",
              "  </thead>\n",
              "  <tbody>\n",
              "    <tr>\n",
              "      <th>294</th>\n",
              "      <td>Lucas Duda is Ghost Rider. Not the Nic Cage ve...</td>\n",
              "      <td>1</td>\n",
              "      <td>0.0</td>\n",
              "      <td>0.058396</td>\n",
              "    </tr>\n",
              "    <tr>\n",
              "      <th>408</th>\n",
              "      <td>@willienelson We need help! Horses will die!Pl...</td>\n",
              "      <td>1</td>\n",
              "      <td>0.0</td>\n",
              "      <td>0.055213</td>\n",
              "    </tr>\n",
              "    <tr>\n",
              "      <th>681</th>\n",
              "      <td>'The way you move is like a full on rainstorm ...</td>\n",
              "      <td>1</td>\n",
              "      <td>0.0</td>\n",
              "      <td>0.052689</td>\n",
              "    </tr>\n",
              "    <tr>\n",
              "      <th>59</th>\n",
              "      <td>You can never escape me. Bullets don't harm me...</td>\n",
              "      <td>1</td>\n",
              "      <td>0.0</td>\n",
              "      <td>0.052550</td>\n",
              "    </tr>\n",
              "    <tr>\n",
              "      <th>221</th>\n",
              "      <td>going to redo my nails and watch behind the sc...</td>\n",
              "      <td>1</td>\n",
              "      <td>0.0</td>\n",
              "      <td>0.049794</td>\n",
              "    </tr>\n",
              "    <tr>\n",
              "      <th>233</th>\n",
              "      <td>I get to smoke my shit in peace</td>\n",
              "      <td>1</td>\n",
              "      <td>0.0</td>\n",
              "      <td>0.046633</td>\n",
              "    </tr>\n",
              "    <tr>\n",
              "      <th>244</th>\n",
              "      <td>Reddit Will Now QuarantineÛ_ http://t.co/pkUA...</td>\n",
              "      <td>1</td>\n",
              "      <td>0.0</td>\n",
              "      <td>0.043185</td>\n",
              "    </tr>\n",
              "    <tr>\n",
              "      <th>23</th>\n",
              "      <td>Ron &amp;amp; Fez - Dave's High School Crush https...</td>\n",
              "      <td>1</td>\n",
              "      <td>0.0</td>\n",
              "      <td>0.038120</td>\n",
              "    </tr>\n",
              "    <tr>\n",
              "      <th>411</th>\n",
              "      <td>@SoonerMagic_ I mean I'm a fan but I don't nee...</td>\n",
              "      <td>1</td>\n",
              "      <td>0.0</td>\n",
              "      <td>0.035574</td>\n",
              "    </tr>\n",
              "    <tr>\n",
              "      <th>38</th>\n",
              "      <td>Why are you deluged with low self-image? Take ...</td>\n",
              "      <td>1</td>\n",
              "      <td>0.0</td>\n",
              "      <td>0.033811</td>\n",
              "    </tr>\n",
              "  </tbody>\n",
              "</table>\n",
              "</div>\n",
              "      <button class=\"colab-df-convert\" onclick=\"convertToInteractive('df-cca50610-8db0-498b-8eaf-f2fced83594a')\"\n",
              "              title=\"Convert this dataframe to an interactive table.\"\n",
              "              style=\"display:none;\">\n",
              "        \n",
              "  <svg xmlns=\"http://www.w3.org/2000/svg\" height=\"24px\"viewBox=\"0 0 24 24\"\n",
              "       width=\"24px\">\n",
              "    <path d=\"M0 0h24v24H0V0z\" fill=\"none\"/>\n",
              "    <path d=\"M18.56 5.44l.94 2.06.94-2.06 2.06-.94-2.06-.94-.94-2.06-.94 2.06-2.06.94zm-11 1L8.5 8.5l.94-2.06 2.06-.94-2.06-.94L8.5 2.5l-.94 2.06-2.06.94zm10 10l.94 2.06.94-2.06 2.06-.94-2.06-.94-.94-2.06-.94 2.06-2.06.94z\"/><path d=\"M17.41 7.96l-1.37-1.37c-.4-.4-.92-.59-1.43-.59-.52 0-1.04.2-1.43.59L10.3 9.45l-7.72 7.72c-.78.78-.78 2.05 0 2.83L4 21.41c.39.39.9.59 1.41.59.51 0 1.02-.2 1.41-.59l7.78-7.78 2.81-2.81c.8-.78.8-2.07 0-2.86zM5.41 20L4 18.59l7.72-7.72 1.47 1.35L5.41 20z\"/>\n",
              "  </svg>\n",
              "      </button>\n",
              "      \n",
              "  <style>\n",
              "    .colab-df-container {\n",
              "      display:flex;\n",
              "      flex-wrap:wrap;\n",
              "      gap: 12px;\n",
              "    }\n",
              "\n",
              "    .colab-df-convert {\n",
              "      background-color: #E8F0FE;\n",
              "      border: none;\n",
              "      border-radius: 50%;\n",
              "      cursor: pointer;\n",
              "      display: none;\n",
              "      fill: #1967D2;\n",
              "      height: 32px;\n",
              "      padding: 0 0 0 0;\n",
              "      width: 32px;\n",
              "    }\n",
              "\n",
              "    .colab-df-convert:hover {\n",
              "      background-color: #E2EBFA;\n",
              "      box-shadow: 0px 1px 2px rgba(60, 64, 67, 0.3), 0px 1px 3px 1px rgba(60, 64, 67, 0.15);\n",
              "      fill: #174EA6;\n",
              "    }\n",
              "\n",
              "    [theme=dark] .colab-df-convert {\n",
              "      background-color: #3B4455;\n",
              "      fill: #D2E3FC;\n",
              "    }\n",
              "\n",
              "    [theme=dark] .colab-df-convert:hover {\n",
              "      background-color: #434B5C;\n",
              "      box-shadow: 0px 1px 3px 1px rgba(0, 0, 0, 0.15);\n",
              "      filter: drop-shadow(0px 1px 2px rgba(0, 0, 0, 0.3));\n",
              "      fill: #FFFFFF;\n",
              "    }\n",
              "  </style>\n",
              "\n",
              "      <script>\n",
              "        const buttonEl =\n",
              "          document.querySelector('#df-cca50610-8db0-498b-8eaf-f2fced83594a button.colab-df-convert');\n",
              "        buttonEl.style.display =\n",
              "          google.colab.kernel.accessAllowed ? 'block' : 'none';\n",
              "\n",
              "        async function convertToInteractive(key) {\n",
              "          const element = document.querySelector('#df-cca50610-8db0-498b-8eaf-f2fced83594a');\n",
              "          const dataTable =\n",
              "            await google.colab.kernel.invokeFunction('convertToInteractive',\n",
              "                                                     [key], {});\n",
              "          if (!dataTable) return;\n",
              "\n",
              "          const docLinkHtml = 'Like what you see? Visit the ' +\n",
              "            '<a target=\"_blank\" href=https://colab.research.google.com/notebooks/data_table.ipynb>data table notebook</a>'\n",
              "            + ' to learn more about interactive tables.';\n",
              "          element.innerHTML = '';\n",
              "          dataTable['output_type'] = 'display_data';\n",
              "          await google.colab.output.renderOutput(dataTable, element);\n",
              "          const docLink = document.createElement('div');\n",
              "          docLink.innerHTML = docLinkHtml;\n",
              "          element.appendChild(docLink);\n",
              "        }\n",
              "      </script>\n",
              "    </div>\n",
              "  </div>\n",
              "  "
            ],
            "text/plain": [
              "                                                  text  target  pred  pred_prob\n",
              "294  Lucas Duda is Ghost Rider. Not the Nic Cage ve...       1   0.0   0.058396\n",
              "408  @willienelson We need help! Horses will die!Pl...       1   0.0   0.055213\n",
              "681  'The way you move is like a full on rainstorm ...       1   0.0   0.052689\n",
              "59   You can never escape me. Bullets don't harm me...       1   0.0   0.052550\n",
              "221  going to redo my nails and watch behind the sc...       1   0.0   0.049794\n",
              "233                    I get to smoke my shit in peace       1   0.0   0.046633\n",
              "244  Reddit Will Now QuarantineÛ_ http://t.co/pkUA...       1   0.0   0.043185\n",
              "23   Ron &amp; Fez - Dave's High School Crush https...       1   0.0   0.038120\n",
              "411  @SoonerMagic_ I mean I'm a fan but I don't nee...       1   0.0   0.035574\n",
              "38   Why are you deluged with low self-image? Take ...       1   0.0   0.033811"
            ]
          },
          "metadata": {},
          "execution_count": 147
        }
      ]
    },
    {
      "cell_type": "code",
      "source": [
        "# Check the false positives (model predicted 1 when it should've been 0)\n",
        "for row in most_wrong[:5].itertuples():\n",
        "    _, text, target, pred, pred_prob = row\n",
        "    print(f'Target: {target}, Pred: {pred}, Prob: {pred_prob}')\n",
        "    print(f'Text:\\n{text}\\n')\n",
        "    print('-----\\n')"
      ],
      "metadata": {
        "colab": {
          "base_uri": "https://localhost:8080/"
        },
        "id": "pmFg7UJkzL_g",
        "outputId": "f99ece81-2fe8-484c-c18f-e1708483a783"
      },
      "execution_count": 149,
      "outputs": [
        {
          "output_type": "stream",
          "name": "stdout",
          "text": [
            "Target: 0, Pred: 1.0, Prob: 0.9137337803840637\n",
            "Text:\n",
            "? High Skies - Burning Buildings ? http://t.co/uVq41i3Kx2 #nowplaying\n",
            "\n",
            "-----\n",
            "\n",
            "Target: 0, Pred: 1.0, Prob: 0.902112603187561\n",
            "Text:\n",
            "FedEx will no longer transport bioterror pathogens in wake of anthrax lab mishaps http://t.co/lHpgxc4b8J\n",
            "\n",
            "-----\n",
            "\n",
            "Target: 0, Pred: 1.0, Prob: 0.8587448596954346\n",
            "Text:\n",
            "[55436] 1950 LIONEL TRAINS SMOKE LOCOMOTIVES WITH MAGNE-TRACTION INSTRUCTIONS http://t.co/xEZBs3sq0y http://t.co/C2x0QoKGlY\n",
            "\n",
            "-----\n",
            "\n",
            "Target: 0, Pred: 1.0, Prob: 0.8420855402946472\n",
            "Text:\n",
            "@noah_anyname That's where the concentration camps and mass murder come in. \n",
            " \n",
            "EVERY. FUCKING. TIME.\n",
            "\n",
            "-----\n",
            "\n",
            "Target: 0, Pred: 1.0, Prob: 0.8326864242553711\n",
            "Text:\n",
            "@SonofLiberty357 all illuminated by the brightly burning buildings all around the town!\n",
            "\n",
            "-----\n",
            "\n"
          ]
        }
      ]
    },
    {
      "cell_type": "code",
      "source": [
        "# Check the false negatives (model predicted 1 when it should've been 0)\n",
        "for row in most_wrong[-5:].itertuples():\n",
        "    _, text, target, pred, pred_prob = row\n",
        "    print(f'Target: {target}, Pred: {pred}, Prob: {pred_prob}')\n",
        "    print(f'Text:\\n{text}\\n')\n",
        "    print('-----\\n')"
      ],
      "metadata": {
        "colab": {
          "base_uri": "https://localhost:8080/"
        },
        "id": "BAe6pImD0ufL",
        "outputId": "08e94f4c-6f90-4aa8-c842-4aef8c5dc350"
      },
      "execution_count": 150,
      "outputs": [
        {
          "output_type": "stream",
          "name": "stdout",
          "text": [
            "Target: 1, Pred: 0.0, Prob: 0.04663271829485893\n",
            "Text:\n",
            "I get to smoke my shit in peace\n",
            "\n",
            "-----\n",
            "\n",
            "Target: 1, Pred: 0.0, Prob: 0.04318522661924362\n",
            "Text:\n",
            "Reddit Will Now QuarantineÛ_ http://t.co/pkUAMXw6pm #onlinecommunities #reddit #amageddon #freespeech #Business http://t.co/PAWvNJ4sAP\n",
            "\n",
            "-----\n",
            "\n",
            "Target: 1, Pred: 0.0, Prob: 0.03811987116932869\n",
            "Text:\n",
            "Ron &amp; Fez - Dave's High School Crush https://t.co/aN3W16c8F6 via @YouTube\n",
            "\n",
            "-----\n",
            "\n",
            "Target: 1, Pred: 0.0, Prob: 0.03557366132736206\n",
            "Text:\n",
            "@SoonerMagic_ I mean I'm a fan but I don't need a girl sounding off like a damn siren\n",
            "\n",
            "-----\n",
            "\n",
            "Target: 1, Pred: 0.0, Prob: 0.03381115943193436\n",
            "Text:\n",
            "Why are you deluged with low self-image? Take the quiz: http://t.co/XsPqdOrIqj http://t.co/CQYvFR4UCy\n",
            "\n",
            "-----\n",
            "\n"
          ]
        }
      ]
    },
    {
      "cell_type": "markdown",
      "source": [
        "# Make predictions on the test dataset"
      ],
      "metadata": {
        "id": "1PrOj3uO4O_s"
      }
    },
    {
      "cell_type": "code",
      "source": [
        "test_sentences = test_df.text.to_numpy()\n",
        "test_sentences[:10]"
      ],
      "metadata": {
        "colab": {
          "base_uri": "https://localhost:8080/"
        },
        "id": "Z2yAMCus4mR4",
        "outputId": "8d7bb6ae-7d34-4ddf-f899-457e13007c57"
      },
      "execution_count": 158,
      "outputs": [
        {
          "output_type": "execute_result",
          "data": {
            "text/plain": [
              "array(['Just happened a terrible car crash',\n",
              "       'Heard about #earthquake is different cities, stay safe everyone.',\n",
              "       'there is a forest fire at spot pond, geese are fleeing across the street, I cannot save them all',\n",
              "       'Apocalypse lighting. #Spokane #wildfires',\n",
              "       'Typhoon Soudelor kills 28 in China and Taiwan',\n",
              "       \"We're shaking...It's an earthquake\",\n",
              "       \"They'd probably still show more life than Arsenal did yesterday, eh? EH?\",\n",
              "       'Hey! How are you?', 'What a nice hat?', 'Fuck off!'], dtype=object)"
            ]
          },
          "metadata": {},
          "execution_count": 158
        }
      ]
    },
    {
      "cell_type": "code",
      "source": [
        "test_sentence_pred_probs = model_6_pretrained.predict(test_sentences)\n",
        "test_sentence_pred_probs[:10]"
      ],
      "metadata": {
        "colab": {
          "base_uri": "https://localhost:8080/"
        },
        "id": "ygrwxCcO4X_a",
        "outputId": "90c5d1e8-5df7-41fb-8925-56c50d18919e"
      },
      "execution_count": 160,
      "outputs": [
        {
          "output_type": "execute_result",
          "data": {
            "text/plain": [
              "array([[0.53187734],\n",
              "       [0.8367755 ],\n",
              "       [0.7974652 ],\n",
              "       [0.92703766],\n",
              "       [0.9590923 ],\n",
              "       [0.4728403 ],\n",
              "       [0.06488388],\n",
              "       [0.04583222],\n",
              "       [0.0502747 ],\n",
              "       [0.06093987]], dtype=float32)"
            ]
          },
          "metadata": {},
          "execution_count": 160
        }
      ]
    },
    {
      "cell_type": "code",
      "source": [
        "# Convert prediction probabilities to labels\n",
        "test_sentence_preds = tf.squeeze(tf.round(test_sentence_pred_probs))\n",
        "test_sentence_preds[:10]"
      ],
      "metadata": {
        "colab": {
          "base_uri": "https://localhost:8080/"
        },
        "id": "tynJmAX-3kMb",
        "outputId": "4754cae0-082f-4478-899b-aaac1ed50470"
      },
      "execution_count": 161,
      "outputs": [
        {
          "output_type": "execute_result",
          "data": {
            "text/plain": [
              "<tf.Tensor: shape=(10,), dtype=float32, numpy=array([1., 1., 1., 1., 1., 0., 0., 0., 0., 0.], dtype=float32)>"
            ]
          },
          "metadata": {},
          "execution_count": 161
        }
      ]
    },
    {
      "cell_type": "code",
      "source": [
        "test_df = pd.DataFrame({'text': test_sentences,\n",
        "                        'pred': test_sentence_preds,\n",
        "                        'pred_prob': tf.squeeze(test_sentence_pred_probs)})\n",
        "\n",
        "test_df.head()"
      ],
      "metadata": {
        "colab": {
          "base_uri": "https://localhost:8080/",
          "height": 206
        },
        "id": "-TRs5oy-5kJB",
        "outputId": "a28b182d-2fb5-4041-905d-4204fb9f0ce0"
      },
      "execution_count": 162,
      "outputs": [
        {
          "output_type": "execute_result",
          "data": {
            "text/html": [
              "\n",
              "  <div id=\"df-52fa3ada-2435-4597-915a-5e90a4024fd3\">\n",
              "    <div class=\"colab-df-container\">\n",
              "      <div>\n",
              "<style scoped>\n",
              "    .dataframe tbody tr th:only-of-type {\n",
              "        vertical-align: middle;\n",
              "    }\n",
              "\n",
              "    .dataframe tbody tr th {\n",
              "        vertical-align: top;\n",
              "    }\n",
              "\n",
              "    .dataframe thead th {\n",
              "        text-align: right;\n",
              "    }\n",
              "</style>\n",
              "<table border=\"1\" class=\"dataframe\">\n",
              "  <thead>\n",
              "    <tr style=\"text-align: right;\">\n",
              "      <th></th>\n",
              "      <th>text</th>\n",
              "      <th>pred</th>\n",
              "      <th>pred_prob</th>\n",
              "    </tr>\n",
              "  </thead>\n",
              "  <tbody>\n",
              "    <tr>\n",
              "      <th>0</th>\n",
              "      <td>Just happened a terrible car crash</td>\n",
              "      <td>1.0</td>\n",
              "      <td>0.531877</td>\n",
              "    </tr>\n",
              "    <tr>\n",
              "      <th>1</th>\n",
              "      <td>Heard about #earthquake is different cities, s...</td>\n",
              "      <td>1.0</td>\n",
              "      <td>0.836775</td>\n",
              "    </tr>\n",
              "    <tr>\n",
              "      <th>2</th>\n",
              "      <td>there is a forest fire at spot pond, geese are...</td>\n",
              "      <td>1.0</td>\n",
              "      <td>0.797465</td>\n",
              "    </tr>\n",
              "    <tr>\n",
              "      <th>3</th>\n",
              "      <td>Apocalypse lighting. #Spokane #wildfires</td>\n",
              "      <td>1.0</td>\n",
              "      <td>0.927038</td>\n",
              "    </tr>\n",
              "    <tr>\n",
              "      <th>4</th>\n",
              "      <td>Typhoon Soudelor kills 28 in China and Taiwan</td>\n",
              "      <td>1.0</td>\n",
              "      <td>0.959092</td>\n",
              "    </tr>\n",
              "  </tbody>\n",
              "</table>\n",
              "</div>\n",
              "      <button class=\"colab-df-convert\" onclick=\"convertToInteractive('df-52fa3ada-2435-4597-915a-5e90a4024fd3')\"\n",
              "              title=\"Convert this dataframe to an interactive table.\"\n",
              "              style=\"display:none;\">\n",
              "        \n",
              "  <svg xmlns=\"http://www.w3.org/2000/svg\" height=\"24px\"viewBox=\"0 0 24 24\"\n",
              "       width=\"24px\">\n",
              "    <path d=\"M0 0h24v24H0V0z\" fill=\"none\"/>\n",
              "    <path d=\"M18.56 5.44l.94 2.06.94-2.06 2.06-.94-2.06-.94-.94-2.06-.94 2.06-2.06.94zm-11 1L8.5 8.5l.94-2.06 2.06-.94-2.06-.94L8.5 2.5l-.94 2.06-2.06.94zm10 10l.94 2.06.94-2.06 2.06-.94-2.06-.94-.94-2.06-.94 2.06-2.06.94z\"/><path d=\"M17.41 7.96l-1.37-1.37c-.4-.4-.92-.59-1.43-.59-.52 0-1.04.2-1.43.59L10.3 9.45l-7.72 7.72c-.78.78-.78 2.05 0 2.83L4 21.41c.39.39.9.59 1.41.59.51 0 1.02-.2 1.41-.59l7.78-7.78 2.81-2.81c.8-.78.8-2.07 0-2.86zM5.41 20L4 18.59l7.72-7.72 1.47 1.35L5.41 20z\"/>\n",
              "  </svg>\n",
              "      </button>\n",
              "      \n",
              "  <style>\n",
              "    .colab-df-container {\n",
              "      display:flex;\n",
              "      flex-wrap:wrap;\n",
              "      gap: 12px;\n",
              "    }\n",
              "\n",
              "    .colab-df-convert {\n",
              "      background-color: #E8F0FE;\n",
              "      border: none;\n",
              "      border-radius: 50%;\n",
              "      cursor: pointer;\n",
              "      display: none;\n",
              "      fill: #1967D2;\n",
              "      height: 32px;\n",
              "      padding: 0 0 0 0;\n",
              "      width: 32px;\n",
              "    }\n",
              "\n",
              "    .colab-df-convert:hover {\n",
              "      background-color: #E2EBFA;\n",
              "      box-shadow: 0px 1px 2px rgba(60, 64, 67, 0.3), 0px 1px 3px 1px rgba(60, 64, 67, 0.15);\n",
              "      fill: #174EA6;\n",
              "    }\n",
              "\n",
              "    [theme=dark] .colab-df-convert {\n",
              "      background-color: #3B4455;\n",
              "      fill: #D2E3FC;\n",
              "    }\n",
              "\n",
              "    [theme=dark] .colab-df-convert:hover {\n",
              "      background-color: #434B5C;\n",
              "      box-shadow: 0px 1px 3px 1px rgba(0, 0, 0, 0.15);\n",
              "      filter: drop-shadow(0px 1px 2px rgba(0, 0, 0, 0.3));\n",
              "      fill: #FFFFFF;\n",
              "    }\n",
              "  </style>\n",
              "\n",
              "      <script>\n",
              "        const buttonEl =\n",
              "          document.querySelector('#df-52fa3ada-2435-4597-915a-5e90a4024fd3 button.colab-df-convert');\n",
              "        buttonEl.style.display =\n",
              "          google.colab.kernel.accessAllowed ? 'block' : 'none';\n",
              "\n",
              "        async function convertToInteractive(key) {\n",
              "          const element = document.querySelector('#df-52fa3ada-2435-4597-915a-5e90a4024fd3');\n",
              "          const dataTable =\n",
              "            await google.colab.kernel.invokeFunction('convertToInteractive',\n",
              "                                                     [key], {});\n",
              "          if (!dataTable) return;\n",
              "\n",
              "          const docLinkHtml = 'Like what you see? Visit the ' +\n",
              "            '<a target=\"_blank\" href=https://colab.research.google.com/notebooks/data_table.ipynb>data table notebook</a>'\n",
              "            + ' to learn more about interactive tables.';\n",
              "          element.innerHTML = '';\n",
              "          dataTable['output_type'] = 'display_data';\n",
              "          await google.colab.output.renderOutput(dataTable, element);\n",
              "          const docLink = document.createElement('div');\n",
              "          docLink.innerHTML = docLinkHtml;\n",
              "          element.appendChild(docLink);\n",
              "        }\n",
              "      </script>\n",
              "    </div>\n",
              "  </div>\n",
              "  "
            ],
            "text/plain": [
              "                                                text  pred  pred_prob\n",
              "0                 Just happened a terrible car crash   1.0   0.531877\n",
              "1  Heard about #earthquake is different cities, s...   1.0   0.836775\n",
              "2  there is a forest fire at spot pond, geese are...   1.0   0.797465\n",
              "3           Apocalypse lighting. #Spokane #wildfires   1.0   0.927038\n",
              "4      Typhoon Soudelor kills 28 in China and Taiwan   1.0   0.959092"
            ]
          },
          "metadata": {},
          "execution_count": 162
        }
      ]
    },
    {
      "cell_type": "code",
      "source": [
        "test_df.tail(10)"
      ],
      "metadata": {
        "colab": {
          "base_uri": "https://localhost:8080/",
          "height": 363
        },
        "id": "ar02bavb58cp",
        "outputId": "ee5871f1-fd96-42bc-db44-117af02f907f"
      },
      "execution_count": 164,
      "outputs": [
        {
          "output_type": "execute_result",
          "data": {
            "text/html": [
              "\n",
              "  <div id=\"df-568a7ab0-8d6d-4229-bafe-e645189f1a0c\">\n",
              "    <div class=\"colab-df-container\">\n",
              "      <div>\n",
              "<style scoped>\n",
              "    .dataframe tbody tr th:only-of-type {\n",
              "        vertical-align: middle;\n",
              "    }\n",
              "\n",
              "    .dataframe tbody tr th {\n",
              "        vertical-align: top;\n",
              "    }\n",
              "\n",
              "    .dataframe thead th {\n",
              "        text-align: right;\n",
              "    }\n",
              "</style>\n",
              "<table border=\"1\" class=\"dataframe\">\n",
              "  <thead>\n",
              "    <tr style=\"text-align: right;\">\n",
              "      <th></th>\n",
              "      <th>text</th>\n",
              "      <th>pred</th>\n",
              "      <th>pred_prob</th>\n",
              "    </tr>\n",
              "  </thead>\n",
              "  <tbody>\n",
              "    <tr>\n",
              "      <th>3253</th>\n",
              "      <td>Malaysian PM confirms debris is from missing f...</td>\n",
              "      <td>1.0</td>\n",
              "      <td>0.984129</td>\n",
              "    </tr>\n",
              "    <tr>\n",
              "      <th>3254</th>\n",
              "      <td>Officials: Alabama home quarantined over possi...</td>\n",
              "      <td>1.0</td>\n",
              "      <td>0.887820</td>\n",
              "    </tr>\n",
              "    <tr>\n",
              "      <th>3255</th>\n",
              "      <td>See the 16yr old PKK suicide bomber who detona...</td>\n",
              "      <td>1.0</td>\n",
              "      <td>0.971588</td>\n",
              "    </tr>\n",
              "    <tr>\n",
              "      <th>3256</th>\n",
              "      <td>To conference attendees! The blue line from th...</td>\n",
              "      <td>0.0</td>\n",
              "      <td>0.473931</td>\n",
              "    </tr>\n",
              "    <tr>\n",
              "      <th>3257</th>\n",
              "      <td>The death toll in a #IS-suicide car bombing on...</td>\n",
              "      <td>1.0</td>\n",
              "      <td>0.988713</td>\n",
              "    </tr>\n",
              "    <tr>\n",
              "      <th>3258</th>\n",
              "      <td>EARTHQUAKE SAFETY LOS ANGELES ÛÒ SAFETY FASTE...</td>\n",
              "      <td>1.0</td>\n",
              "      <td>0.784360</td>\n",
              "    </tr>\n",
              "    <tr>\n",
              "      <th>3259</th>\n",
              "      <td>Storm in RI worse than last hurricane. My city...</td>\n",
              "      <td>1.0</td>\n",
              "      <td>0.960392</td>\n",
              "    </tr>\n",
              "    <tr>\n",
              "      <th>3260</th>\n",
              "      <td>Green Line derailment in Chicago http://t.co/U...</td>\n",
              "      <td>1.0</td>\n",
              "      <td>0.923559</td>\n",
              "    </tr>\n",
              "    <tr>\n",
              "      <th>3261</th>\n",
              "      <td>MEG issues Hazardous Weather Outlook (HWO) htt...</td>\n",
              "      <td>1.0</td>\n",
              "      <td>0.523699</td>\n",
              "    </tr>\n",
              "    <tr>\n",
              "      <th>3262</th>\n",
              "      <td>#CityofCalgary has activated its Municipal Eme...</td>\n",
              "      <td>1.0</td>\n",
              "      <td>0.682967</td>\n",
              "    </tr>\n",
              "  </tbody>\n",
              "</table>\n",
              "</div>\n",
              "      <button class=\"colab-df-convert\" onclick=\"convertToInteractive('df-568a7ab0-8d6d-4229-bafe-e645189f1a0c')\"\n",
              "              title=\"Convert this dataframe to an interactive table.\"\n",
              "              style=\"display:none;\">\n",
              "        \n",
              "  <svg xmlns=\"http://www.w3.org/2000/svg\" height=\"24px\"viewBox=\"0 0 24 24\"\n",
              "       width=\"24px\">\n",
              "    <path d=\"M0 0h24v24H0V0z\" fill=\"none\"/>\n",
              "    <path d=\"M18.56 5.44l.94 2.06.94-2.06 2.06-.94-2.06-.94-.94-2.06-.94 2.06-2.06.94zm-11 1L8.5 8.5l.94-2.06 2.06-.94-2.06-.94L8.5 2.5l-.94 2.06-2.06.94zm10 10l.94 2.06.94-2.06 2.06-.94-2.06-.94-.94-2.06-.94 2.06-2.06.94z\"/><path d=\"M17.41 7.96l-1.37-1.37c-.4-.4-.92-.59-1.43-.59-.52 0-1.04.2-1.43.59L10.3 9.45l-7.72 7.72c-.78.78-.78 2.05 0 2.83L4 21.41c.39.39.9.59 1.41.59.51 0 1.02-.2 1.41-.59l7.78-7.78 2.81-2.81c.8-.78.8-2.07 0-2.86zM5.41 20L4 18.59l7.72-7.72 1.47 1.35L5.41 20z\"/>\n",
              "  </svg>\n",
              "      </button>\n",
              "      \n",
              "  <style>\n",
              "    .colab-df-container {\n",
              "      display:flex;\n",
              "      flex-wrap:wrap;\n",
              "      gap: 12px;\n",
              "    }\n",
              "\n",
              "    .colab-df-convert {\n",
              "      background-color: #E8F0FE;\n",
              "      border: none;\n",
              "      border-radius: 50%;\n",
              "      cursor: pointer;\n",
              "      display: none;\n",
              "      fill: #1967D2;\n",
              "      height: 32px;\n",
              "      padding: 0 0 0 0;\n",
              "      width: 32px;\n",
              "    }\n",
              "\n",
              "    .colab-df-convert:hover {\n",
              "      background-color: #E2EBFA;\n",
              "      box-shadow: 0px 1px 2px rgba(60, 64, 67, 0.3), 0px 1px 3px 1px rgba(60, 64, 67, 0.15);\n",
              "      fill: #174EA6;\n",
              "    }\n",
              "\n",
              "    [theme=dark] .colab-df-convert {\n",
              "      background-color: #3B4455;\n",
              "      fill: #D2E3FC;\n",
              "    }\n",
              "\n",
              "    [theme=dark] .colab-df-convert:hover {\n",
              "      background-color: #434B5C;\n",
              "      box-shadow: 0px 1px 3px 1px rgba(0, 0, 0, 0.15);\n",
              "      filter: drop-shadow(0px 1px 2px rgba(0, 0, 0, 0.3));\n",
              "      fill: #FFFFFF;\n",
              "    }\n",
              "  </style>\n",
              "\n",
              "      <script>\n",
              "        const buttonEl =\n",
              "          document.querySelector('#df-568a7ab0-8d6d-4229-bafe-e645189f1a0c button.colab-df-convert');\n",
              "        buttonEl.style.display =\n",
              "          google.colab.kernel.accessAllowed ? 'block' : 'none';\n",
              "\n",
              "        async function convertToInteractive(key) {\n",
              "          const element = document.querySelector('#df-568a7ab0-8d6d-4229-bafe-e645189f1a0c');\n",
              "          const dataTable =\n",
              "            await google.colab.kernel.invokeFunction('convertToInteractive',\n",
              "                                                     [key], {});\n",
              "          if (!dataTable) return;\n",
              "\n",
              "          const docLinkHtml = 'Like what you see? Visit the ' +\n",
              "            '<a target=\"_blank\" href=https://colab.research.google.com/notebooks/data_table.ipynb>data table notebook</a>'\n",
              "            + ' to learn more about interactive tables.';\n",
              "          element.innerHTML = '';\n",
              "          dataTable['output_type'] = 'display_data';\n",
              "          await google.colab.output.renderOutput(dataTable, element);\n",
              "          const docLink = document.createElement('div');\n",
              "          docLink.innerHTML = docLinkHtml;\n",
              "          element.appendChild(docLink);\n",
              "        }\n",
              "      </script>\n",
              "    </div>\n",
              "  </div>\n",
              "  "
            ],
            "text/plain": [
              "                                                   text  pred  pred_prob\n",
              "3253  Malaysian PM confirms debris is from missing f...   1.0   0.984129\n",
              "3254  Officials: Alabama home quarantined over possi...   1.0   0.887820\n",
              "3255  See the 16yr old PKK suicide bomber who detona...   1.0   0.971588\n",
              "3256  To conference attendees! The blue line from th...   0.0   0.473931\n",
              "3257  The death toll in a #IS-suicide car bombing on...   1.0   0.988713\n",
              "3258  EARTHQUAKE SAFETY LOS ANGELES ÛÒ SAFETY FASTE...   1.0   0.784360\n",
              "3259  Storm in RI worse than last hurricane. My city...   1.0   0.960392\n",
              "3260  Green Line derailment in Chicago http://t.co/U...   1.0   0.923559\n",
              "3261  MEG issues Hazardous Weather Outlook (HWO) htt...   1.0   0.523699\n",
              "3262  #CityofCalgary has activated its Municipal Eme...   1.0   0.682967"
            ]
          },
          "metadata": {},
          "execution_count": 164
        }
      ]
    }
  ]
}